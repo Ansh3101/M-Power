{
 "cells": [
  {
   "cell_type": "code",
   "execution_count": 1,
   "id": "e65978e1-8356-4c14-9307-fba2f9f4709b",
   "metadata": {},
   "outputs": [],
   "source": [
    "import torch\n",
    "import torchvision\n",
    "import os\n",
    "import cv2\n",
    "import numpy as np\n",
    "from torch import nn\n",
    "from glob import glob\n",
    "import timm\n",
    "import torch.nn.functional as F"
   ]
  },
  {
   "cell_type": "code",
   "execution_count": null,
   "id": "a7e1e971",
   "metadata": {},
   "outputs": [],
   "source": []
  },
  {
   "cell_type": "code",
   "execution_count": 2,
   "id": "b04843cb-0c57-40e8-84e5-30b0d359e0a7",
   "metadata": {},
   "outputs": [],
   "source": [
    "image_paths = './Data/*/*'\n",
    "image_paths = glob(image_paths)"
   ]
  },
  {
   "cell_type": "code",
   "execution_count": 3,
   "id": "8629ecf4-3d32-4a97-9a18-4c93ce9071e5",
   "metadata": {},
   "outputs": [
    {
     "data": {
      "text/plain": [
       "['./Data/Glaucoma/images-30.jpeg',\n",
       " './Data/Glaucoma/image-3.jpeg',\n",
       " './Data/Glaucoma/images-71.jpeg',\n",
       " './Data/Glaucoma/images-26.jpeg',\n",
       " './Data/Glaucoma/images-3.jpeg',\n",
       " './Data/Glaucoma/images-51.jpeg',\n",
       " './Data/Glaucoma/images-10.jpeg',\n",
       " './Data/Glaucoma/images-47.jpeg',\n",
       " './Data/Glaucoma/images-46.jpeg',\n",
       " './Data/Glaucoma/images-11.jpeg',\n",
       " './Data/Glaucoma/images-50.jpeg',\n",
       " './Data/Glaucoma/images.jpeg',\n",
       " './Data/Glaucoma/images-2.jpeg',\n",
       " './Data/Glaucoma/images-27.jpeg',\n",
       " './Data/Glaucoma/images-70.jpeg',\n",
       " './Data/Glaucoma/image-2.jpeg',\n",
       " './Data/Glaucoma/images-66.jpeg',\n",
       " './Data/Glaucoma/images-31.jpeg',\n",
       " './Data/Glaucoma/image-9.jpeg',\n",
       " './Data/Glaucoma/images-5.jpeg',\n",
       " './Data/Glaucoma/image-12.jpeg',\n",
       " './Data/Glaucoma/images-57.jpeg',\n",
       " './Data/Glaucoma/images-16.jpeg',\n",
       " './Data/Glaucoma/images-41.jpeg',\n",
       " './Data/Glaucoma/images-36.jpeg',\n",
       " './Data/Glaucoma/image-5.jpeg',\n",
       " './Data/Glaucoma/images-9.jpeg',\n",
       " './Data/Glaucoma/images-25.png',\n",
       " './Data/Glaucoma/images-20.jpeg',\n",
       " './Data/Glaucoma/images-34.png',\n",
       " './Data/Glaucoma/images-21.jpeg',\n",
       " './Data/Glaucoma/images-8.jpeg',\n",
       " './Data/Glaucoma/images-76.jpeg',\n",
       " './Data/Glaucoma/image-4.jpeg',\n",
       " './Data/Glaucoma/images-37.jpeg',\n",
       " './Data/Glaucoma/images-40.jpeg',\n",
       " './Data/Glaucoma/images-17.jpeg',\n",
       " './Data/Glaucoma/images-56.jpeg',\n",
       " './Data/Glaucoma/images-4.jpeg',\n",
       " './Data/Glaucoma/image-8.jpeg',\n",
       " './Data/Glaucoma/images-43.jpeg',\n",
       " './Data/Glaucoma/images-14.jpeg',\n",
       " './Data/Glaucoma/images-55.jpeg',\n",
       " './Data/Glaucoma/images-79.jpeg',\n",
       " './Data/Glaucoma/image-10.jpeg',\n",
       " './Data/Glaucoma/images-7.jpeg',\n",
       " './Data/Glaucoma/images-38.jpeg',\n",
       " './Data/Glaucoma/images-18.jpeg',\n",
       " './Data/Glaucoma/images-59.jpeg',\n",
       " './Data/Glaucoma/images-22.jpeg',\n",
       " './Data/Glaucoma/images-75.jpeg',\n",
       " './Data/Glaucoma/image-7.jpeg',\n",
       " './Data/Glaucoma/images-35.jpeg',\n",
       " './Data/Glaucoma/image-6.jpeg',\n",
       " './Data/Glaucoma/images-74.jpeg',\n",
       " './Data/Glaucoma/images-23.jpeg',\n",
       " './Data/Glaucoma/images-58.jpeg',\n",
       " './Data/Glaucoma/images-19.jpeg',\n",
       " './Data/Glaucoma/images-39.jpeg',\n",
       " './Data/Glaucoma/images-6.jpeg',\n",
       " './Data/Glaucoma/image-11.jpeg',\n",
       " './Data/Glaucoma/images-54.jpeg',\n",
       " './Data/Glaucoma/images-15.jpeg',\n",
       " './Data/Glaucoma/images-42.jpeg',\n",
       " './Data/Glaucoma/images-49.jpeg',\n",
       " './Data/Glaucoma/images-24.jpeg',\n",
       " './Data/Glaucoma/images-73.jpeg',\n",
       " './Data/Glaucoma/images-65.jpeg',\n",
       " './Data/Glaucoma/images-32.jpeg',\n",
       " './Data/Glaucoma/images-45.jpeg',\n",
       " './Data/Glaucoma/images-12.jpeg',\n",
       " './Data/Glaucoma/images-53.jpeg',\n",
       " './Data/Glaucoma/images-28.jpeg',\n",
       " './Data/Glaucoma/images-69.jpeg',\n",
       " './Data/Glaucoma/images-68.jpeg',\n",
       " './Data/Glaucoma/images-29.jpeg',\n",
       " './Data/Glaucoma/images-52.jpeg',\n",
       " './Data/Glaucoma/images-13.jpeg',\n",
       " './Data/Glaucoma/images-44.jpeg',\n",
       " './Data/Glaucoma/images-33.jpeg',\n",
       " './Data/Glaucoma/images-72.jpeg',\n",
       " './Data/Glaucoma/images-48.jpeg',\n",
       " './Data/Cataracts/images-30.jpeg',\n",
       " './Data/Cataracts/image-18.jpeg',\n",
       " './Data/Cataracts/images-26.jpeg',\n",
       " './Data/Cataracts/image-22.jpeg',\n",
       " './Data/Cataracts/image-14.jpeg',\n",
       " './Data/Cataracts/images-10.jpeg',\n",
       " './Data/Cataracts/images-11.jpeg',\n",
       " './Data/Cataracts/image-15.jpeg',\n",
       " './Data/Cataracts/image-23.jpeg',\n",
       " './Data/Cataracts/image-19.jpeg',\n",
       " './Data/Cataracts/image-2.jpeg',\n",
       " './Data/Cataracts/images-31.jpeg',\n",
       " './Data/Cataracts/images-5.jpeg',\n",
       " './Data/Cataracts/image-12.jpeg',\n",
       " './Data/Cataracts/images-16.jpeg',\n",
       " './Data/Cataracts/images-41.jpeg',\n",
       " './Data/Cataracts/images-36.jpeg',\n",
       " './Data/Cataracts/image-5.jpeg',\n",
       " './Data/Cataracts/images-9.jpeg',\n",
       " './Data/Cataracts/images-20.jpeg',\n",
       " './Data/Cataracts/image-24.jpeg',\n",
       " './Data/Cataracts/image-4.jpeg',\n",
       " './Data/Cataracts/images-37.jpeg',\n",
       " './Data/Cataracts/images-40.jpeg',\n",
       " './Data/Cataracts/images-17.jpeg',\n",
       " './Data/Cataracts/image-13.jpeg',\n",
       " './Data/Cataracts/images-4.jpeg',\n",
       " './Data/Cataracts/images-14.jpeg',\n",
       " './Data/Cataracts/image-10.jpeg',\n",
       " './Data/Cataracts/images-38.jpeg',\n",
       " './Data/Cataracts/images-18.jpeg',\n",
       " './Data/Cataracts/images-35.jpeg',\n",
       " './Data/Cataracts/image-6.jpeg',\n",
       " './Data/Cataracts/images-23.jpeg',\n",
       " './Data/Cataracts/images-19.jpeg',\n",
       " './Data/Cataracts/images-39.jpeg',\n",
       " './Data/Cataracts/image-11.jpeg',\n",
       " './Data/Cataracts/images-15.jpeg',\n",
       " './Data/Cataracts/image-20.jpeg',\n",
       " './Data/Cataracts/images-24.jpeg',\n",
       " './Data/Cataracts/images-32.jpeg',\n",
       " './Data/Cataracts/images-12.jpeg',\n",
       " './Data/Cataracts/image-16.jpeg',\n",
       " './Data/Cataracts/image-17.jpeg',\n",
       " './Data/Cataracts/images-29.jpeg',\n",
       " './Data/Cataracts/images-13.jpeg',\n",
       " './Data/Cataracts/images-25.jpeg',\n",
       " './Data/Uveitis/images-30.jpeg',\n",
       " './Data/Uveitis/image-3.jpeg',\n",
       " './Data/Uveitis/images-26.jpeg',\n",
       " './Data/Uveitis/images-3.jpeg',\n",
       " './Data/Uveitis/image-14.jpeg',\n",
       " './Data/Uveitis/images-10.jpeg',\n",
       " './Data/Uveitis/images-11.jpeg',\n",
       " './Data/Uveitis/images.jpeg',\n",
       " './Data/Uveitis/images-2.jpeg',\n",
       " './Data/Uveitis/images-27.jpeg',\n",
       " './Data/Uveitis/image-2.jpeg',\n",
       " './Data/Uveitis/images-31.jpeg',\n",
       " './Data/Uveitis/image-9.jpeg',\n",
       " './Data/Uveitis/images-5.jpeg',\n",
       " './Data/Uveitis/image-12.jpeg',\n",
       " './Data/Uveitis/images-16.jpeg',\n",
       " './Data/Uveitis/images-36.jpeg',\n",
       " './Data/Uveitis/image-5.jpeg',\n",
       " './Data/Uveitis/images-9.jpeg',\n",
       " './Data/Uveitis/images-20.jpeg',\n",
       " './Data/Uveitis/images-21.jpeg',\n",
       " './Data/Uveitis/images-8.jpeg',\n",
       " './Data/Uveitis/image-4.jpeg',\n",
       " './Data/Uveitis/images-37.jpeg',\n",
       " './Data/Uveitis/images-17.jpeg',\n",
       " './Data/Uveitis/image-13.jpeg',\n",
       " './Data/Uveitis/images-4.jpeg',\n",
       " './Data/Uveitis/image-8.jpeg',\n",
       " './Data/Uveitis/images-14.jpeg',\n",
       " './Data/Uveitis/image-10.jpeg',\n",
       " './Data/Uveitis/images-7.jpeg',\n",
       " './Data/Uveitis/images-18.jpeg',\n",
       " './Data/Uveitis/images-22.jpeg',\n",
       " './Data/Uveitis/image-7.jpeg',\n",
       " './Data/Uveitis/images-34.jpeg',\n",
       " './Data/Uveitis/images-35.jpeg',\n",
       " './Data/Uveitis/image.jpeg',\n",
       " './Data/Uveitis/image-6.jpeg',\n",
       " './Data/Uveitis/images-23.jpeg',\n",
       " './Data/Uveitis/images-19.jpeg',\n",
       " './Data/Uveitis/images-6.jpeg',\n",
       " './Data/Uveitis/image-11.jpeg',\n",
       " './Data/Uveitis/images-15.jpeg',\n",
       " './Data/Uveitis/images-24.jpeg',\n",
       " './Data/Uveitis/images-12.jpeg',\n",
       " './Data/Uveitis/images-28.jpeg',\n",
       " './Data/Uveitis/images-29.jpeg',\n",
       " './Data/Uveitis/images-13.jpeg',\n",
       " './Data/Uveitis/images-33.jpeg',\n",
       " './Data/Uveitis/images-25.jpeg',\n",
       " './Data/Healthy/63.jpg',\n",
       " './Data/Healthy/77.jpg',\n",
       " './Data/Healthy/88.jpg',\n",
       " './Data/Healthy/228.jpg',\n",
       " './Data/Healthy/214.jpg',\n",
       " './Data/Healthy/200.jpg',\n",
       " './Data/Healthy/201.jpg',\n",
       " './Data/Healthy/215.jpg',\n",
       " './Data/Healthy/177.jpg',\n",
       " './Data/Healthy/89.jpg',\n",
       " './Data/Healthy/188.jpg',\n",
       " './Data/Healthy/76.jpg',\n",
       " './Data/Healthy/62.jpg',\n",
       " './Data/Healthy/74.jpg',\n",
       " './Data/Healthy/60.jpg',\n",
       " './Data/Healthy/48.jpg',\n",
       " './Data/Healthy/203.jpg',\n",
       " './Data/Healthy/202.jpg',\n",
       " './Data/Healthy/49.jpg',\n",
       " './Data/Healthy/75.jpg',\n",
       " './Data/Healthy/59.jpg',\n",
       " './Data/Healthy/71.jpg',\n",
       " './Data/Healthy/65.jpg',\n",
       " './Data/Healthy/206.jpg',\n",
       " './Data/Healthy/213.jpg',\n",
       " './Data/Healthy/207.jpg',\n",
       " './Data/Healthy/64.jpg',\n",
       " './Data/Healthy/70.jpg',\n",
       " './Data/Healthy/58.jpg',\n",
       " './Data/Healthy/8.jpg',\n",
       " './Data/Healthy/66.jpg',\n",
       " './Data/Healthy/72.jpg',\n",
       " './Data/Healthy/99.jpg',\n",
       " './Data/Healthy/211.jpg',\n",
       " './Data/Healthy/205.jpg',\n",
       " './Data/Healthy/238.jpg',\n",
       " './Data/Healthy/204.jpg',\n",
       " './Data/Healthy/210.jpg',\n",
       " './Data/Healthy/98.jpg',\n",
       " './Data/Healthy/73.jpg',\n",
       " './Data/Healthy/14.jpg',\n",
       " './Data/Healthy/28.jpg',\n",
       " './Data/Healthy/263.jpg',\n",
       " './Data/Healthy/262.jpg',\n",
       " './Data/Healthy/100.jpg',\n",
       " './Data/Healthy/29.jpg',\n",
       " './Data/Healthy/15.jpg',\n",
       " './Data/Healthy/17.jpg',\n",
       " './Data/Healthy/260.jpg',\n",
       " './Data/Healthy/261.jpg',\n",
       " './Data/Healthy/16.jpg',\n",
       " './Data/Healthy/12.jpg',\n",
       " './Data/Healthy/265.jpg',\n",
       " './Data/Healthy/258.jpg',\n",
       " './Data/Healthy/264.jpg',\n",
       " './Data/Healthy/13.jpg',\n",
       " './Data/Healthy/39.jpg',\n",
       " './Data/Healthy/11.jpg',\n",
       " './Data/Healthy/10.jpg',\n",
       " './Data/Healthy/38.jpg',\n",
       " './Data/Healthy/21.jpg',\n",
       " './Data/Healthy/35.jpg',\n",
       " './Data/Healthy/256.jpg',\n",
       " './Data/Healthy/242.jpg',\n",
       " './Data/Healthy/243.jpg',\n",
       " './Data/Healthy/257.jpg',\n",
       " './Data/Healthy/20.jpg',\n",
       " './Data/Healthy/36.jpg',\n",
       " './Data/Healthy/22.jpg',\n",
       " './Data/Healthy/255.jpg',\n",
       " './Data/Healthy/23.jpg',\n",
       " './Data/Healthy/37.jpg',\n",
       " './Data/Healthy/33.jpg',\n",
       " './Data/Healthy/27.jpg',\n",
       " './Data/Healthy/250.jpg',\n",
       " './Data/Healthy/245.jpg',\n",
       " './Data/Healthy/26.jpg',\n",
       " './Data/Healthy/32.jpg',\n",
       " './Data/Healthy/18.jpg',\n",
       " './Data/Healthy/24.jpg',\n",
       " './Data/Healthy/247.jpg',\n",
       " './Data/Healthy/246.jpg',\n",
       " './Data/Healthy/252.jpg',\n",
       " './Data/Healthy/31.jpg',\n",
       " './Data/Healthy/25.jpg',\n",
       " './Data/Healthy/19.jpg',\n",
       " './Data/Healthy/4.jpg',\n",
       " './Data/Healthy/56.jpg',\n",
       " './Data/Healthy/81.jpg',\n",
       " './Data/Healthy/95.jpg',\n",
       " './Data/Healthy/209.jpg',\n",
       " './Data/Healthy/235.jpg',\n",
       " './Data/Healthy/221.jpg',\n",
       " './Data/Healthy/234.jpg',\n",
       " './Data/Healthy/208.jpg',\n",
       " './Data/Healthy/94.jpg',\n",
       " './Data/Healthy/80.jpg',\n",
       " './Data/Healthy/195.jpg',\n",
       " './Data/Healthy/181.jpg',\n",
       " './Data/Healthy/5.jpg',\n",
       " './Data/Healthy/57.jpg',\n",
       " './Data/Healthy/43.jpg',\n",
       " './Data/Healthy/55.jpg',\n",
       " './Data/Healthy/7.jpg',\n",
       " './Data/Healthy/41.jpg',\n",
       " './Data/Healthy/69.jpg',\n",
       " './Data/Healthy/183.jpg',\n",
       " './Data/Healthy/96.jpg',\n",
       " './Data/Healthy/82.jpg',\n",
       " './Data/Healthy/222.jpg',\n",
       " './Data/Healthy/237.jpg',\n",
       " './Data/Healthy/83.jpg',\n",
       " './Data/Healthy/97.jpg',\n",
       " './Data/Healthy/196.jpg',\n",
       " './Data/Healthy/40.jpg',\n",
       " './Data/Healthy/54.jpg',\n",
       " './Data/Healthy/6.jpg',\n",
       " './Data/Healthy/192.jpg',\n",
       " './Data/Healthy/78.jpg',\n",
       " './Data/Healthy/186.jpg',\n",
       " './Data/Healthy/2.jpg',\n",
       " './Data/Healthy/50.jpg',\n",
       " './Data/Healthy/44.jpg',\n",
       " './Data/Healthy/93.jpg',\n",
       " './Data/Healthy/87.jpg',\n",
       " './Data/Healthy/227.jpg',\n",
       " './Data/Healthy/232.jpg',\n",
       " './Data/Healthy/226.jpg',\n",
       " './Data/Healthy/86.jpg',\n",
       " './Data/Healthy/178.jpg',\n",
       " './Data/Healthy/92.jpg',\n",
       " './Data/Healthy/51.jpg',\n",
       " './Data/Healthy/79.jpg',\n",
       " './Data/Healthy/187.jpg',\n",
       " './Data/Healthy/193.jpg',\n",
       " './Data/Healthy/185.jpg',\n",
       " './Data/Healthy/47.jpg',\n",
       " './Data/Healthy/53.jpg',\n",
       " './Data/Healthy/1.jpg',\n",
       " './Data/Healthy/84.jpg',\n",
       " './Data/Healthy/90.jpg',\n",
       " './Data/Healthy/218.jpg',\n",
       " './Data/Healthy/219.jpg',\n",
       " './Data/Healthy/225.jpg',\n",
       " './Data/Healthy/231.jpg',\n",
       " './Data/Healthy/91.jpg',\n",
       " './Data/Healthy/85.jpg',\n",
       " './Data/Healthy/52.jpg',\n",
       " './Data/Healthy/0.jpg',\n",
       " './Data/Healthy/46.jpg',\n",
       " './Data/Healthy/190.jpg',\n",
       " './Data/Healthy/184.jpg']"
      ]
     },
     "execution_count": 3,
     "metadata": {},
     "output_type": "execute_result"
    }
   ],
   "source": [
    "image_paths"
   ]
  },
  {
   "cell_type": "code",
   "execution_count": 4,
   "id": "c3574ce6-29bd-434f-a9fb-6c8c59e812e9",
   "metadata": {},
   "outputs": [],
   "source": [
    "labels = []\n",
    "images = []\n",
    "\n",
    "for image_path in image_paths:\n",
    "    label = image_path.split(os.path.sep)[2]\n",
    "    image = image_path.split(os.path.sep)[3]\n",
    "    labels.append(label)\n",
    "    images.append(image)"
   ]
  },
  {
   "cell_type": "code",
   "execution_count": 5,
   "id": "e0ebdcd1-04fd-447a-8ed7-3c07d5f105a4",
   "metadata": {},
   "outputs": [],
   "source": [
    "labels = np.array(labels, dtype='str')\n",
    "label2pred = dict(zip(np.unique(labels), range(0, 4)))\n",
    "pred2label = dict(zip(range(0, 4), np.unique(labels)))\n",
    "n_classes = len(np.unique(labels))"
   ]
  },
  {
   "cell_type": "code",
   "execution_count": 6,
   "id": "2b97966d-bdf5-402a-999f-e1d1b771964c",
   "metadata": {},
   "outputs": [],
   "source": [
    "class IrisDisease(torch.utils.data.Dataset):\n",
    "    \n",
    "    def __init__(self, image_paths, labels, transforms=None):\n",
    "        super(IrisDisease, self).__init__()\n",
    "        \n",
    "        self.image_paths = image_paths\n",
    "        self.labels = labels\n",
    "        self.transforms = transforms\n",
    "        \n",
    "    def __len__(self):\n",
    "        return len(self.image_paths)\n",
    "    \n",
    "    def __getitem__(self, idx):\n",
    "        \n",
    "        image = cv2.imread(self.image_paths[idx])\n",
    "        image = cv2.cvtColor(image, cv2.COLOR_BGR2RGB)\n",
    "        image = cv2.resize(image, (224, 224))\n",
    "            \n",
    "        label = self.labels[idx]\n",
    "        label = label2pred[label]\n",
    "        label = torch.tensor(label)\n",
    "        \n",
    "        if self.transforms:\n",
    "            image = self.transforms(image)\n",
    "        \n",
    "        return image, label        "
   ]
  },
  {
   "cell_type": "code",
   "execution_count": 7,
   "id": "75edbd36-d771-495a-b3dc-d948224e2a60",
   "metadata": {},
   "outputs": [],
   "source": [
    "device='mps'"
   ]
  },
  {
   "cell_type": "code",
   "execution_count": 8,
   "id": "4ee90b2c-bab6-4450-95c5-3c64ea6b1169",
   "metadata": {},
   "outputs": [],
   "source": [
    "from sklearn.model_selection import train_test_split\n",
    "\n",
    "train_image_paths, test_image_paths, train_labels, test_labels = train_test_split(image_paths, labels, test_size=0.1, random_state=42)"
   ]
  },
  {
   "cell_type": "code",
   "execution_count": 9,
   "id": "5bc27969-a651-49e2-bdf9-2c4df7354543",
   "metadata": {},
   "outputs": [],
   "source": [
    "tr_transforms = torchvision.transforms.Compose([\n",
    "    torchvision.transforms.ToTensor(),\n",
    "    torchvision.transforms.RandomHorizontalFlip(1.0),\n",
    "    torchvision.transforms.CenterCrop(224),\n",
    "    torchvision.transforms.RandomRotation(60),\n",
    "    torchvision.transforms.RandomVerticalFlip(1.0),\n",
    "    torchvision.transforms.Normalize([0.485, 0.456, 0.406], [0.229, 0.224, 0.225])\n",
    "])\n",
    "\n",
    "val_transforms = torchvision.transforms.Compose([\n",
    "    torchvision.transforms.ToTensor(),\n",
    "    torchvision.transforms.Normalize([0.485, 0.456, 0.406], [0.229, 0.224, 0.225])\n",
    "])"
   ]
  },
  {
   "cell_type": "code",
   "execution_count": 10,
   "id": "07d11807-e11a-4428-891e-bf0914fbe27f",
   "metadata": {},
   "outputs": [],
   "source": [
    "train_dataset = IrisDisease(image_paths=train_image_paths, labels=train_labels, transforms=tr_transforms)\n",
    "test_dataset = IrisDisease(image_paths=test_image_paths, labels=test_labels, transforms=val_transforms)\n",
    "# train_dataset = Dataset(image_paths=image_paths, label=labels, transforms=torchvision.transforms.ToTensor())"
   ]
  },
  {
   "cell_type": "code",
   "execution_count": 11,
   "id": "67c29fba-e4d3-47b8-b76f-c7fe41f19034",
   "metadata": {},
   "outputs": [],
   "source": [
    "train_dataloader = torch.utils.data.DataLoader(dataset=train_dataset, batch_size=64, shuffle=True)\n",
    "test_dataloader = torch.utils.data.DataLoader(dataset=test_dataset, batch_size=64, shuffle=False)"
   ]
  },
  {
   "cell_type": "code",
   "execution_count": 12,
   "id": "a31db6b7-0c83-4a31-87a3-975ac8629e4b",
   "metadata": {},
   "outputs": [
    {
     "name": "stderr",
     "output_type": "stream",
     "text": [
      "Clipping input data to the valid range for imshow with RGB data ([0..1] for floats or [0..255] for integers).\n"
     ]
    },
    {
     "name": "stdout",
     "output_type": "stream",
     "text": [
      "Cataracts\n"
     ]
    },
    {
     "data": {
      "image/png": "[encoded data removed]",
      "text/plain": [
       "<Figure size 432x288 with 1 Axes>"
      ]
     },
     "metadata": {
      "needs_background": "light"
     },
     "output_type": "display_data"
    }
   ],
   "source": [
    "import matplotlib.pyplot as plt\n",
    "\n",
    "plt.imshow(train_dataset[10][0].permute(1, 2, 0))\n",
    "print(pred2label[train_dataset[10][1].item()])"
   ]
  },
  {
   "cell_type": "code",
   "execution_count": 13,
   "id": "a72e697d-de15-4fa0-91b0-5601c5fb4c2e",
   "metadata": {},
   "outputs": [],
   "source": [
    "class ClassificationBase(nn.Module):\n",
    "    def training_step(self, batch):\n",
    "        images, labels = batch\n",
    "        images = images.to(device)\n",
    "        labels = labels.to(device)\n",
    "        out = self(images)\n",
    "        loss = F.cross_entropy(out, labels)\n",
    "        acc = accuracy(out, labels)          \n",
    "        return loss, acc\n",
    "\n",
    "    def validation_step(self, batch):\n",
    "        images, labels = batch \n",
    "        images = images.to(device)\n",
    "        labels = labels.to(device)\n",
    "        out = self(images)                    \n",
    "        loss = F.cross_entropy(out, labels)  \n",
    "        acc = accuracy(out, labels)          \n",
    "        return {'val_loss': loss.detach(), 'val_acc': acc}\n",
    "        \n",
    "    def validation_epoch_end(self, outputs):\n",
    "        batch_losses = [x['val_loss'] for x in outputs]\n",
    "        epoch_loss = torch.stack(batch_losses).mean()   \n",
    "        batch_accs = [x['val_acc'] for x in outputs]\n",
    "        epoch_acc = torch.stack(batch_accs).mean()    \n",
    "        return {'val_loss': epoch_loss.item(), 'val_acc': epoch_acc.item()}\n",
    "    \n",
    "    def epoch_end(self, epoch, result):\n",
    "        print(\"Epoch [{}], val_loss: {:.4f}, val_acc: {:.4f}\".format(epoch, result['val_loss'], result['val_acc']))\n",
    "        \n",
    "\n",
    "def accuracy(outputs, labels):\n",
    "    _, preds = torch.max(outputs, dim=1)\n",
    "    return torch.tensor(torch.sum(preds == labels).item() / len(preds))\n",
    "\n",
    "def evaluate(model, val_loader):\n",
    "    outputs = [model.validation_step(batch) for batch in val_loader]\n",
    "    return model.validation_epoch_end(outputs)"
   ]
  },
  {
   "cell_type": "code",
   "execution_count": 14,
   "id": "7e6e3793-5270-461f-92eb-93ab54bb0599",
   "metadata": {},
   "outputs": [],
   "source": [
    "class EfficientNetB0(ClassificationBase):\n",
    "    \n",
    "    def __init__(self):\n",
    "        super().__init__()\n",
    "        \n",
    "        self.network = timm.create_model('efficientnet_b0', pretrained=True)\n",
    "        num_ftrs = self.network.classifier.in_features\n",
    "        self.network.classifier = nn.Linear(num_ftrs, n_classes)\n",
    "        \n",
    "        \n",
    "    def forward(self, batch):\n",
    "        batch = batch.to(device)\n",
    "        return torch.sigmoid(self.network(batch))\n",
    "        \n",
    "        \n",
    "        \n",
    "model = EfficientNetB0()     "
   ]
  },
  {
   "cell_type": "code",
   "execution_count": 15,
   "id": "ccc97d0f-f725-4229-82de-87425f6cdb09",
   "metadata": {},
   "outputs": [],
   "source": [
    "def fit(epochs, model, train_loader, val_loader, opt_func=torch.optim.Adam):\n",
    "    history = []\n",
    "    optimizer = opt_func(model.parameters(), 3e-4)\n",
    "    for epoch in range(epochs):\n",
    "        lrs = []\n",
    "        loss = 0\n",
    "        acc = 0\n",
    "        for batch in tqdm.tqdm(train_loader):\n",
    "            loss, acc = model.training_step(batch)\n",
    "            loss.backward()\n",
    "            optimizer.step()\n",
    "            optimizer.zero_grad()\n",
    "        print(\"Epoch [{}], loss: {:.4f}, acc: {:.4f}\".format(epoch, loss, acc))\n",
    "        result = evaluate(model, val_loader)\n",
    "        model.epoch_end(epoch, result)\n",
    "        history.append(result)\n",
    "    return history"
   ]
  },
  {
   "cell_type": "code",
   "execution_count": 16,
   "id": "d2ae3b47-89c3-410d-a0f4-c7c58a41e5e5",
   "metadata": {},
   "outputs": [],
   "source": [
    "model = model.to('mps')"
   ]
  },
  {
   "cell_type": "code",
   "execution_count": 17,
   "id": "f4d4ce97-d022-4b53-959c-fff1f48b8dcc",
   "metadata": {},
   "outputs": [
    {
     "data": {
      "text/plain": [
       "{'val_loss': 1.3951598405838013, 'val_acc': 0.23529411852359772}"
      ]
     },
     "execution_count": 17,
     "metadata": {},
     "output_type": "execute_result"
    }
   ],
   "source": [
    "evaluate(model, test_dataloader)"
   ]
  },
  {
   "cell_type": "code",
   "execution_count": 39,
   "id": "9834131f-89fd-4b90-b84f-c35df6218b43",
   "metadata": {},
   "outputs": [
    {
     "name": "stderr",
     "output_type": "stream",
     "text": [
      "100%|██████████████████████████████████████████████████████████████████████████████████████████| 5/5 [00:35<00:00,  7.11s/it]\n"
     ]
    },
    {
     "name": "stdout",
     "output_type": "stream",
     "text": [
      "Epoch [0], loss: 0.9773, acc: 0.8780\n",
      "Epoch [0], val_loss: 1.0420, val_acc: 0.7059\n"
     ]
    },
    {
     "name": "stderr",
     "output_type": "stream",
     "text": [
      "100%|██████████████████████████████████████████████████████████████████████████████████████████| 5/5 [00:31<00:00,  6.29s/it]\n"
     ]
    },
    {
     "name": "stdout",
     "output_type": "stream",
     "text": [
      "Epoch [1], loss: 0.9511, acc: 0.8293\n",
      "Epoch [1], val_loss: 0.9999, val_acc: 0.7059\n"
     ]
    },
    {
     "name": "stderr",
     "output_type": "stream",
     "text": [
      "100%|██████████████████████████████████████████████████████████████████████████████████████████| 5/5 [00:31<00:00,  6.37s/it]\n"
     ]
    },
    {
     "name": "stdout",
     "output_type": "stream",
     "text": [
      "Epoch [2], loss: 0.8754, acc: 0.9268\n",
      "Epoch [2], val_loss: 0.9804, val_acc: 0.7353\n"
     ]
    },
    {
     "name": "stderr",
     "output_type": "stream",
     "text": [
      "100%|██████████████████████████████████████████████████████████████████████████████████████████| 5/5 [00:33<00:00,  6.69s/it]\n"
     ]
    },
    {
     "name": "stdout",
     "output_type": "stream",
     "text": [
      "Epoch [3], loss: 0.9005, acc: 0.8537\n",
      "Epoch [3], val_loss: 0.9841, val_acc: 0.7353\n"
     ]
    },
    {
     "name": "stderr",
     "output_type": "stream",
     "text": [
      "100%|██████████████████████████████████████████████████████████████████████████████████████████| 5/5 [00:32<00:00,  6.46s/it]\n"
     ]
    },
    {
     "name": "stdout",
     "output_type": "stream",
     "text": [
      "Epoch [4], loss: 0.8421, acc: 0.9512\n",
      "Epoch [4], val_loss: 0.9828, val_acc: 0.7353\n"
     ]
    },
    {
     "name": "stderr",
     "output_type": "stream",
     "text": [
      "100%|██████████████████████████████████████████████████████████████████████████████████████████| 5/5 [00:34<00:00,  7.00s/it]\n"
     ]
    },
    {
     "name": "stdout",
     "output_type": "stream",
     "text": [
      "Epoch [5], loss: 0.7786, acc: 1.0000\n",
      "Epoch [5], val_loss: 0.9802, val_acc: 0.7647\n"
     ]
    },
    {
     "name": "stderr",
     "output_type": "stream",
     "text": [
      "100%|██████████████████████████████████████████████████████████████████████████████████████████| 5/5 [00:29<00:00,  5.94s/it]\n"
     ]
    },
    {
     "name": "stdout",
     "output_type": "stream",
     "text": [
      "Epoch [6], loss: 0.7879, acc: 0.9756\n",
      "Epoch [6], val_loss: 0.9818, val_acc: 0.7647\n"
     ]
    },
    {
     "name": "stderr",
     "output_type": "stream",
     "text": [
      "100%|██████████████████████████████████████████████████████████████████████████████████████████| 5/5 [00:32<00:00,  6.45s/it]\n"
     ]
    },
    {
     "name": "stdout",
     "output_type": "stream",
     "text": [
      "Epoch [7], loss: 0.7593, acc: 1.0000\n",
      "Epoch [7], val_loss: 0.9753, val_acc: 0.7941\n"
     ]
    },
    {
     "name": "stderr",
     "output_type": "stream",
     "text": [
      "100%|██████████████████████████████████████████████████████████████████████████████████████████| 5/5 [00:28<00:00,  5.80s/it]\n"
     ]
    },
    {
     "name": "stdout",
     "output_type": "stream",
     "text": [
      "Epoch [8], loss: 0.7554, acc: 1.0000\n",
      "Epoch [8], val_loss: 0.9767, val_acc: 0.7941\n"
     ]
    },
    {
     "name": "stderr",
     "output_type": "stream",
     "text": [
      "100%|██████████████████████████████████████████████████████████████████████████████████████████| 5/5 [00:31<00:00,  6.39s/it]\n"
     ]
    },
    {
     "name": "stdout",
     "output_type": "stream",
     "text": [
      "Epoch [9], loss: 0.7544, acc: 1.0000\n",
      "Epoch [9], val_loss: 0.9783, val_acc: 0.7647\n"
     ]
    },
    {
     "name": "stderr",
     "output_type": "stream",
     "text": [
      "100%|██████████████████████████████████████████████████████████████████████████████████████████| 5/5 [00:33<00:00,  6.60s/it]\n"
     ]
    },
    {
     "name": "stdout",
     "output_type": "stream",
     "text": [
      "Epoch [10], loss: 0.7519, acc: 1.0000\n",
      "Epoch [10], val_loss: 0.9739, val_acc: 0.7647\n"
     ]
    },
    {
     "name": "stderr",
     "output_type": "stream",
     "text": [
      "100%|██████████████████████████████████████████████████████████████████████████████████████████| 5/5 [00:36<00:00,  7.25s/it]\n"
     ]
    },
    {
     "name": "stdout",
     "output_type": "stream",
     "text": [
      "Epoch [11], loss: 0.7466, acc: 1.0000\n",
      "Epoch [11], val_loss: 0.9703, val_acc: 0.7353\n"
     ]
    },
    {
     "name": "stderr",
     "output_type": "stream",
     "text": [
      "100%|██████████████████████████████████████████████████████████████████████████████████████████| 5/5 [00:36<00:00,  7.23s/it]\n"
     ]
    },
    {
     "name": "stdout",
     "output_type": "stream",
     "text": [
      "Epoch [12], loss: 0.7477, acc: 1.0000\n",
      "Epoch [12], val_loss: 0.9798, val_acc: 0.7353\n"
     ]
    },
    {
     "name": "stderr",
     "output_type": "stream",
     "text": [
      "100%|██████████████████████████████████████████████████████████████████████████████████████████| 5/5 [00:39<00:00,  7.96s/it]\n"
     ]
    },
    {
     "name": "stdout",
     "output_type": "stream",
     "text": [
      "Epoch [13], loss: 0.7480, acc: 1.0000\n",
      "Epoch [13], val_loss: 0.9924, val_acc: 0.7059\n"
     ]
    },
    {
     "name": "stderr",
     "output_type": "stream",
     "text": [
      "100%|██████████████████████████████████████████████████████████████████████████████████████████| 5/5 [00:32<00:00,  6.54s/it]\n"
     ]
    },
    {
     "name": "stdout",
     "output_type": "stream",
     "text": [
      "Epoch [14], loss: 0.7576, acc: 0.9756\n",
      "Epoch [14], val_loss: 0.9925, val_acc: 0.7059\n"
     ]
    },
    {
     "name": "stderr",
     "output_type": "stream",
     "text": [
      "100%|██████████████████████████████████████████████████████████████████████████████████████████| 5/5 [00:32<00:00,  6.59s/it]\n"
     ]
    },
    {
     "name": "stdout",
     "output_type": "stream",
     "text": [
      "Epoch [15], loss: 0.7485, acc: 1.0000\n",
      "Epoch [15], val_loss: 0.9668, val_acc: 0.7647\n"
     ]
    },
    {
     "name": "stderr",
     "output_type": "stream",
     "text": [
      "100%|██████████████████████████████████████████████████████████████████████████████████████████| 5/5 [00:31<00:00,  6.21s/it]\n"
     ]
    },
    {
     "name": "stdout",
     "output_type": "stream",
     "text": [
      "Epoch [16], loss: 0.7468, acc: 1.0000\n",
      "Epoch [16], val_loss: 0.9763, val_acc: 0.7647\n"
     ]
    },
    {
     "name": "stderr",
     "output_type": "stream",
     "text": [
      "100%|██████████████████████████████████████████████████████████████████████████████████████████| 5/5 [00:30<00:00,  6.09s/it]\n"
     ]
    },
    {
     "name": "stdout",
     "output_type": "stream",
     "text": [
      "Epoch [17], loss: 0.7605, acc: 1.0000\n",
      "Epoch [17], val_loss: 0.9808, val_acc: 0.7647\n"
     ]
    },
    {
     "name": "stderr",
     "output_type": "stream",
     "text": [
      "100%|██████████████████████████████████████████████████████████████████████████████████████████| 5/5 [00:28<00:00,  5.78s/it]\n"
     ]
    },
    {
     "name": "stdout",
     "output_type": "stream",
     "text": [
      "Epoch [18], loss: 0.7528, acc: 1.0000\n",
      "Epoch [18], val_loss: 0.9903, val_acc: 0.7647\n"
     ]
    },
    {
     "name": "stderr",
     "output_type": "stream",
     "text": [
      "100%|██████████████████████████████████████████████████████████████████████████████████████████| 5/5 [00:33<00:00,  6.79s/it]\n"
     ]
    },
    {
     "name": "stdout",
     "output_type": "stream",
     "text": [
      "Epoch [19], loss: 0.7454, acc: 1.0000\n",
      "Epoch [19], val_loss: 0.9843, val_acc: 0.7647\n"
     ]
    },
    {
     "name": "stderr",
     "output_type": "stream",
     "text": [
      "100%|██████████████████████████████████████████████████████████████████████████████████████████| 5/5 [00:35<00:00,  7.15s/it]\n"
     ]
    },
    {
     "name": "stdout",
     "output_type": "stream",
     "text": [
      "Epoch [20], loss: 0.7504, acc: 1.0000\n",
      "Epoch [20], val_loss: 0.9845, val_acc: 0.7647\n"
     ]
    },
    {
     "name": "stderr",
     "output_type": "stream",
     "text": [
      "100%|██████████████████████████████████████████████████████████████████████████████████████████| 5/5 [00:35<00:00,  7.14s/it]\n"
     ]
    },
    {
     "name": "stdout",
     "output_type": "stream",
     "text": [
      "Epoch [21], loss: 0.7456, acc: 1.0000\n",
      "Epoch [21], val_loss: 0.9783, val_acc: 0.7647\n"
     ]
    },
    {
     "name": "stderr",
     "output_type": "stream",
     "text": [
      "100%|██████████████████████████████████████████████████████████████████████████████████████████| 5/5 [00:34<00:00,  7.00s/it]\n"
     ]
    },
    {
     "name": "stdout",
     "output_type": "stream",
     "text": [
      "Epoch [22], loss: 0.7463, acc: 1.0000\n",
      "Epoch [22], val_loss: 0.9797, val_acc: 0.7647\n"
     ]
    },
    {
     "name": "stderr",
     "output_type": "stream",
     "text": [
      "100%|██████████████████████████████████████████████████████████████████████████████████████████| 5/5 [00:32<00:00,  6.47s/it]\n"
     ]
    },
    {
     "name": "stdout",
     "output_type": "stream",
     "text": [
      "Epoch [23], loss: 0.7532, acc: 1.0000\n",
      "Epoch [23], val_loss: 0.9835, val_acc: 0.7647\n"
     ]
    },
    {
     "name": "stderr",
     "output_type": "stream",
     "text": [
      "100%|██████████████████████████████████████████████████████████████████████████████████████████| 5/5 [00:34<00:00,  6.99s/it]\n"
     ]
    },
    {
     "name": "stdout",
     "output_type": "stream",
     "text": [
      "Epoch [24], loss: 0.7523, acc: 1.0000\n",
      "Epoch [24], val_loss: 1.0098, val_acc: 0.7353\n"
     ]
    },
    {
     "name": "stderr",
     "output_type": "stream",
     "text": [
      "100%|██████████████████████████████████████████████████████████████████████████████████████████| 5/5 [00:41<00:00,  8.23s/it]\n"
     ]
    },
    {
     "name": "stdout",
     "output_type": "stream",
     "text": [
      "Epoch [25], loss: 0.7452, acc: 1.0000\n",
      "Epoch [25], val_loss: 1.0139, val_acc: 0.7353\n"
     ]
    },
    {
     "name": "stderr",
     "output_type": "stream",
     "text": [
      "100%|██████████████████████████████████████████████████████████████████████████████████████████| 5/5 [00:44<00:00,  8.98s/it]\n"
     ]
    },
    {
     "name": "stdout",
     "output_type": "stream",
     "text": [
      "Epoch [26], loss: 0.7444, acc: 1.0000\n",
      "Epoch [26], val_loss: 1.0110, val_acc: 0.7353\n"
     ]
    },
    {
     "name": "stderr",
     "output_type": "stream",
     "text": [
      " 20%|██████████████████                                                                        | 1/5 [00:09<00:39,  9.76s/it]\n"
     ]
    },
    {
     "ename": "KeyboardInterrupt",
     "evalue": "",
     "output_type": "error",
     "traceback": [
      "\u001b[0;31m---------------------------------------------------------------------------\u001b[0m",
      "\u001b[0;31mKeyboardInterrupt\u001b[0m                         Traceback (most recent call last)",
      "Input \u001b[0;32mIn [39]\u001b[0m, in \u001b[0;36m<cell line: 2>\u001b[0;34m()\u001b[0m\n\u001b[1;32m      1\u001b[0m \u001b[38;5;28;01mimport\u001b[39;00m \u001b[38;5;21;01mtqdm\u001b[39;00m\n\u001b[0;32m----> 2\u001b[0m history \u001b[38;5;241m=\u001b[39m \u001b[43mfit\u001b[49m\u001b[43m(\u001b[49m\u001b[38;5;241;43m100\u001b[39;49m\u001b[43m,\u001b[49m\u001b[43m \u001b[49m\u001b[43mmodel\u001b[49m\u001b[43m,\u001b[49m\u001b[43m \u001b[49m\u001b[43mtrain_dataloader\u001b[49m\u001b[43m,\u001b[49m\u001b[43m \u001b[49m\u001b[43mtest_dataloader\u001b[49m\u001b[43m)\u001b[49m\n",
      "Input \u001b[0;32mIn [15]\u001b[0m, in \u001b[0;36mfit\u001b[0;34m(epochs, model, train_loader, val_loader, opt_func)\u001b[0m\n\u001b[1;32m      6\u001b[0m loss \u001b[38;5;241m=\u001b[39m \u001b[38;5;241m0\u001b[39m\n\u001b[1;32m      7\u001b[0m acc \u001b[38;5;241m=\u001b[39m \u001b[38;5;241m0\u001b[39m\n\u001b[0;32m----> 8\u001b[0m \u001b[38;5;28;01mfor\u001b[39;00m batch \u001b[38;5;129;01min\u001b[39;00m tqdm\u001b[38;5;241m.\u001b[39mtqdm(train_loader):\n\u001b[1;32m      9\u001b[0m     loss, acc \u001b[38;5;241m=\u001b[39m model\u001b[38;5;241m.\u001b[39mtraining_step(batch)\n\u001b[1;32m     10\u001b[0m     loss\u001b[38;5;241m.\u001b[39mbackward()\n",
      "File \u001b[0;32m~/miniforge3/envs/ML/lib/python3.8/site-packages/tqdm/std.py:1195\u001b[0m, in \u001b[0;36mtqdm.__iter__\u001b[0;34m(self)\u001b[0m\n\u001b[1;32m   1192\u001b[0m time \u001b[38;5;241m=\u001b[39m \u001b[38;5;28mself\u001b[39m\u001b[38;5;241m.\u001b[39m_time\n\u001b[1;32m   1194\u001b[0m \u001b[38;5;28;01mtry\u001b[39;00m:\n\u001b[0;32m-> 1195\u001b[0m     \u001b[38;5;28;01mfor\u001b[39;00m obj \u001b[38;5;129;01min\u001b[39;00m iterable:\n\u001b[1;32m   1196\u001b[0m         \u001b[38;5;28;01myield\u001b[39;00m obj\n\u001b[1;32m   1197\u001b[0m         \u001b[38;5;66;03m# Update and possibly print the progressbar.\u001b[39;00m\n\u001b[1;32m   1198\u001b[0m         \u001b[38;5;66;03m# Note: does not call self.update(1) for speed optimisation.\u001b[39;00m\n",
      "File \u001b[0;32m~/miniforge3/envs/ML/lib/python3.8/site-packages/torch/utils/data/dataloader.py:652\u001b[0m, in \u001b[0;36m_BaseDataLoaderIter.__next__\u001b[0;34m(self)\u001b[0m\n\u001b[1;32m    649\u001b[0m \u001b[38;5;28;01mif\u001b[39;00m \u001b[38;5;28mself\u001b[39m\u001b[38;5;241m.\u001b[39m_sampler_iter \u001b[38;5;129;01mis\u001b[39;00m \u001b[38;5;28;01mNone\u001b[39;00m:\n\u001b[1;32m    650\u001b[0m     \u001b[38;5;66;03m# TODO(https://github.com/pytorch/pytorch/issues/76750)\u001b[39;00m\n\u001b[1;32m    651\u001b[0m     \u001b[38;5;28mself\u001b[39m\u001b[38;5;241m.\u001b[39m_reset()  \u001b[38;5;66;03m# type: ignore[call-arg]\u001b[39;00m\n\u001b[0;32m--> 652\u001b[0m data \u001b[38;5;241m=\u001b[39m \u001b[38;5;28;43mself\u001b[39;49m\u001b[38;5;241;43m.\u001b[39;49m\u001b[43m_next_data\u001b[49m\u001b[43m(\u001b[49m\u001b[43m)\u001b[49m\n\u001b[1;32m    653\u001b[0m \u001b[38;5;28mself\u001b[39m\u001b[38;5;241m.\u001b[39m_num_yielded \u001b[38;5;241m+\u001b[39m\u001b[38;5;241m=\u001b[39m \u001b[38;5;241m1\u001b[39m\n\u001b[1;32m    654\u001b[0m \u001b[38;5;28;01mif\u001b[39;00m \u001b[38;5;28mself\u001b[39m\u001b[38;5;241m.\u001b[39m_dataset_kind \u001b[38;5;241m==\u001b[39m _DatasetKind\u001b[38;5;241m.\u001b[39mIterable \u001b[38;5;129;01mand\u001b[39;00m \\\n\u001b[1;32m    655\u001b[0m         \u001b[38;5;28mself\u001b[39m\u001b[38;5;241m.\u001b[39m_IterableDataset_len_called \u001b[38;5;129;01mis\u001b[39;00m \u001b[38;5;129;01mnot\u001b[39;00m \u001b[38;5;28;01mNone\u001b[39;00m \u001b[38;5;129;01mand\u001b[39;00m \\\n\u001b[1;32m    656\u001b[0m         \u001b[38;5;28mself\u001b[39m\u001b[38;5;241m.\u001b[39m_num_yielded \u001b[38;5;241m>\u001b[39m \u001b[38;5;28mself\u001b[39m\u001b[38;5;241m.\u001b[39m_IterableDataset_len_called:\n",
      "File \u001b[0;32m~/miniforge3/envs/ML/lib/python3.8/site-packages/torch/utils/data/dataloader.py:692\u001b[0m, in \u001b[0;36m_SingleProcessDataLoaderIter._next_data\u001b[0;34m(self)\u001b[0m\n\u001b[1;32m    690\u001b[0m \u001b[38;5;28;01mdef\u001b[39;00m \u001b[38;5;21m_next_data\u001b[39m(\u001b[38;5;28mself\u001b[39m):\n\u001b[1;32m    691\u001b[0m     index \u001b[38;5;241m=\u001b[39m \u001b[38;5;28mself\u001b[39m\u001b[38;5;241m.\u001b[39m_next_index()  \u001b[38;5;66;03m# may raise StopIteration\u001b[39;00m\n\u001b[0;32m--> 692\u001b[0m     data \u001b[38;5;241m=\u001b[39m \u001b[38;5;28;43mself\u001b[39;49m\u001b[38;5;241;43m.\u001b[39;49m\u001b[43m_dataset_fetcher\u001b[49m\u001b[38;5;241;43m.\u001b[39;49m\u001b[43mfetch\u001b[49m\u001b[43m(\u001b[49m\u001b[43mindex\u001b[49m\u001b[43m)\u001b[49m  \u001b[38;5;66;03m# may raise StopIteration\u001b[39;00m\n\u001b[1;32m    693\u001b[0m     \u001b[38;5;28;01mif\u001b[39;00m \u001b[38;5;28mself\u001b[39m\u001b[38;5;241m.\u001b[39m_pin_memory:\n\u001b[1;32m    694\u001b[0m         data \u001b[38;5;241m=\u001b[39m _utils\u001b[38;5;241m.\u001b[39mpin_memory\u001b[38;5;241m.\u001b[39mpin_memory(data, \u001b[38;5;28mself\u001b[39m\u001b[38;5;241m.\u001b[39m_pin_memory_device)\n",
      "File \u001b[0;32m~/miniforge3/envs/ML/lib/python3.8/site-packages/torch/utils/data/_utils/fetch.py:49\u001b[0m, in \u001b[0;36m_MapDatasetFetcher.fetch\u001b[0;34m(self, possibly_batched_index)\u001b[0m\n\u001b[1;32m     47\u001b[0m \u001b[38;5;28;01mdef\u001b[39;00m \u001b[38;5;21mfetch\u001b[39m(\u001b[38;5;28mself\u001b[39m, possibly_batched_index):\n\u001b[1;32m     48\u001b[0m     \u001b[38;5;28;01mif\u001b[39;00m \u001b[38;5;28mself\u001b[39m\u001b[38;5;241m.\u001b[39mauto_collation:\n\u001b[0;32m---> 49\u001b[0m         data \u001b[38;5;241m=\u001b[39m [\u001b[38;5;28mself\u001b[39m\u001b[38;5;241m.\u001b[39mdataset[idx] \u001b[38;5;28;01mfor\u001b[39;00m idx \u001b[38;5;129;01min\u001b[39;00m possibly_batched_index]\n\u001b[1;32m     50\u001b[0m     \u001b[38;5;28;01melse\u001b[39;00m:\n\u001b[1;32m     51\u001b[0m         data \u001b[38;5;241m=\u001b[39m \u001b[38;5;28mself\u001b[39m\u001b[38;5;241m.\u001b[39mdataset[possibly_batched_index]\n",
      "File \u001b[0;32m~/miniforge3/envs/ML/lib/python3.8/site-packages/torch/utils/data/_utils/fetch.py:49\u001b[0m, in \u001b[0;36m<listcomp>\u001b[0;34m(.0)\u001b[0m\n\u001b[1;32m     47\u001b[0m \u001b[38;5;28;01mdef\u001b[39;00m \u001b[38;5;21mfetch\u001b[39m(\u001b[38;5;28mself\u001b[39m, possibly_batched_index):\n\u001b[1;32m     48\u001b[0m     \u001b[38;5;28;01mif\u001b[39;00m \u001b[38;5;28mself\u001b[39m\u001b[38;5;241m.\u001b[39mauto_collation:\n\u001b[0;32m---> 49\u001b[0m         data \u001b[38;5;241m=\u001b[39m [\u001b[38;5;28;43mself\u001b[39;49m\u001b[38;5;241;43m.\u001b[39;49m\u001b[43mdataset\u001b[49m\u001b[43m[\u001b[49m\u001b[43midx\u001b[49m\u001b[43m]\u001b[49m \u001b[38;5;28;01mfor\u001b[39;00m idx \u001b[38;5;129;01min\u001b[39;00m possibly_batched_index]\n\u001b[1;32m     50\u001b[0m     \u001b[38;5;28;01melse\u001b[39;00m:\n\u001b[1;32m     51\u001b[0m         data \u001b[38;5;241m=\u001b[39m \u001b[38;5;28mself\u001b[39m\u001b[38;5;241m.\u001b[39mdataset[possibly_batched_index]\n",
      "Input \u001b[0;32mIn [6]\u001b[0m, in \u001b[0;36mIrisDisease.__getitem__\u001b[0;34m(self, idx)\u001b[0m\n\u001b[1;32m     21\u001b[0m label \u001b[38;5;241m=\u001b[39m torch\u001b[38;5;241m.\u001b[39mtensor(label)\n\u001b[1;32m     23\u001b[0m \u001b[38;5;28;01mif\u001b[39;00m \u001b[38;5;28mself\u001b[39m\u001b[38;5;241m.\u001b[39mtransforms:\n\u001b[0;32m---> 24\u001b[0m     image \u001b[38;5;241m=\u001b[39m \u001b[38;5;28;43mself\u001b[39;49m\u001b[38;5;241;43m.\u001b[39;49m\u001b[43mtransforms\u001b[49m\u001b[43m(\u001b[49m\u001b[43mimage\u001b[49m\u001b[43m)\u001b[49m\n\u001b[1;32m     26\u001b[0m \u001b[38;5;28;01mreturn\u001b[39;00m image, label\n",
      "File \u001b[0;32m~/miniforge3/envs/ML/lib/python3.8/site-packages/torchvision/transforms/transforms.py:94\u001b[0m, in \u001b[0;36mCompose.__call__\u001b[0;34m(self, img)\u001b[0m\n\u001b[1;32m     92\u001b[0m \u001b[38;5;28;01mdef\u001b[39;00m \u001b[38;5;21m__call__\u001b[39m(\u001b[38;5;28mself\u001b[39m, img):\n\u001b[1;32m     93\u001b[0m     \u001b[38;5;28;01mfor\u001b[39;00m t \u001b[38;5;129;01min\u001b[39;00m \u001b[38;5;28mself\u001b[39m\u001b[38;5;241m.\u001b[39mtransforms:\n\u001b[0;32m---> 94\u001b[0m         img \u001b[38;5;241m=\u001b[39m \u001b[43mt\u001b[49m\u001b[43m(\u001b[49m\u001b[43mimg\u001b[49m\u001b[43m)\u001b[49m\n\u001b[1;32m     95\u001b[0m     \u001b[38;5;28;01mreturn\u001b[39;00m img\n",
      "File \u001b[0;32m~/miniforge3/envs/ML/lib/python3.8/site-packages/torch/nn/modules/module.py:1130\u001b[0m, in \u001b[0;36mModule._call_impl\u001b[0;34m(self, *input, **kwargs)\u001b[0m\n\u001b[1;32m   1126\u001b[0m \u001b[38;5;66;03m# If we don't have any hooks, we want to skip the rest of the logic in\u001b[39;00m\n\u001b[1;32m   1127\u001b[0m \u001b[38;5;66;03m# this function, and just call forward.\u001b[39;00m\n\u001b[1;32m   1128\u001b[0m \u001b[38;5;28;01mif\u001b[39;00m \u001b[38;5;129;01mnot\u001b[39;00m (\u001b[38;5;28mself\u001b[39m\u001b[38;5;241m.\u001b[39m_backward_hooks \u001b[38;5;129;01mor\u001b[39;00m \u001b[38;5;28mself\u001b[39m\u001b[38;5;241m.\u001b[39m_forward_hooks \u001b[38;5;129;01mor\u001b[39;00m \u001b[38;5;28mself\u001b[39m\u001b[38;5;241m.\u001b[39m_forward_pre_hooks \u001b[38;5;129;01mor\u001b[39;00m _global_backward_hooks\n\u001b[1;32m   1129\u001b[0m         \u001b[38;5;129;01mor\u001b[39;00m _global_forward_hooks \u001b[38;5;129;01mor\u001b[39;00m _global_forward_pre_hooks):\n\u001b[0;32m-> 1130\u001b[0m     \u001b[38;5;28;01mreturn\u001b[39;00m \u001b[43mforward_call\u001b[49m\u001b[43m(\u001b[49m\u001b[38;5;241;43m*\u001b[39;49m\u001b[38;5;28;43minput\u001b[39;49m\u001b[43m,\u001b[49m\u001b[43m \u001b[49m\u001b[38;5;241;43m*\u001b[39;49m\u001b[38;5;241;43m*\u001b[39;49m\u001b[43mkwargs\u001b[49m\u001b[43m)\u001b[49m\n\u001b[1;32m   1131\u001b[0m \u001b[38;5;66;03m# Do not call functions when jit is used\u001b[39;00m\n\u001b[1;32m   1132\u001b[0m full_backward_hooks, non_full_backward_hooks \u001b[38;5;241m=\u001b[39m [], []\n",
      "File \u001b[0;32m~/miniforge3/envs/ML/lib/python3.8/site-packages/torchvision/transforms/transforms.py:1355\u001b[0m, in \u001b[0;36mRandomRotation.forward\u001b[0;34m(self, img)\u001b[0m\n\u001b[1;32m   1352\u001b[0m         fill \u001b[38;5;241m=\u001b[39m [\u001b[38;5;28mfloat\u001b[39m(f) \u001b[38;5;28;01mfor\u001b[39;00m f \u001b[38;5;129;01min\u001b[39;00m fill]\n\u001b[1;32m   1353\u001b[0m angle \u001b[38;5;241m=\u001b[39m \u001b[38;5;28mself\u001b[39m\u001b[38;5;241m.\u001b[39mget_params(\u001b[38;5;28mself\u001b[39m\u001b[38;5;241m.\u001b[39mdegrees)\n\u001b[0;32m-> 1355\u001b[0m \u001b[38;5;28;01mreturn\u001b[39;00m \u001b[43mF\u001b[49m\u001b[38;5;241;43m.\u001b[39;49m\u001b[43mrotate\u001b[49m\u001b[43m(\u001b[49m\u001b[43mimg\u001b[49m\u001b[43m,\u001b[49m\u001b[43m \u001b[49m\u001b[43mangle\u001b[49m\u001b[43m,\u001b[49m\u001b[43m \u001b[49m\u001b[38;5;28;43mself\u001b[39;49m\u001b[38;5;241;43m.\u001b[39;49m\u001b[43mresample\u001b[49m\u001b[43m,\u001b[49m\u001b[43m \u001b[49m\u001b[38;5;28;43mself\u001b[39;49m\u001b[38;5;241;43m.\u001b[39;49m\u001b[43mexpand\u001b[49m\u001b[43m,\u001b[49m\u001b[43m \u001b[49m\u001b[38;5;28;43mself\u001b[39;49m\u001b[38;5;241;43m.\u001b[39;49m\u001b[43mcenter\u001b[49m\u001b[43m,\u001b[49m\u001b[43m \u001b[49m\u001b[43mfill\u001b[49m\u001b[43m)\u001b[49m\n",
      "File \u001b[0;32m~/miniforge3/envs/ML/lib/python3.8/site-packages/torchvision/transforms/functional.py:1081\u001b[0m, in \u001b[0;36mrotate\u001b[0;34m(img, angle, interpolation, expand, center, fill, resample)\u001b[0m\n\u001b[1;32m   1078\u001b[0m \u001b[38;5;66;03m# due to current incoherence of rotation angle direction between affine and rotate implementations\u001b[39;00m\n\u001b[1;32m   1079\u001b[0m \u001b[38;5;66;03m# we need to set -angle.\u001b[39;00m\n\u001b[1;32m   1080\u001b[0m matrix \u001b[38;5;241m=\u001b[39m _get_inverse_affine_matrix(center_f, \u001b[38;5;241m-\u001b[39mangle, [\u001b[38;5;241m0.0\u001b[39m, \u001b[38;5;241m0.0\u001b[39m], \u001b[38;5;241m1.0\u001b[39m, [\u001b[38;5;241m0.0\u001b[39m, \u001b[38;5;241m0.0\u001b[39m])\n\u001b[0;32m-> 1081\u001b[0m \u001b[38;5;28;01mreturn\u001b[39;00m \u001b[43mF_t\u001b[49m\u001b[38;5;241;43m.\u001b[39;49m\u001b[43mrotate\u001b[49m\u001b[43m(\u001b[49m\u001b[43mimg\u001b[49m\u001b[43m,\u001b[49m\u001b[43m \u001b[49m\u001b[43mmatrix\u001b[49m\u001b[38;5;241;43m=\u001b[39;49m\u001b[43mmatrix\u001b[49m\u001b[43m,\u001b[49m\u001b[43m \u001b[49m\u001b[43minterpolation\u001b[49m\u001b[38;5;241;43m=\u001b[39;49m\u001b[43minterpolation\u001b[49m\u001b[38;5;241;43m.\u001b[39;49m\u001b[43mvalue\u001b[49m\u001b[43m,\u001b[49m\u001b[43m \u001b[49m\u001b[43mexpand\u001b[49m\u001b[38;5;241;43m=\u001b[39;49m\u001b[43mexpand\u001b[49m\u001b[43m,\u001b[49m\u001b[43m \u001b[49m\u001b[43mfill\u001b[49m\u001b[38;5;241;43m=\u001b[39;49m\u001b[43mfill\u001b[49m\u001b[43m)\u001b[49m\n",
      "File \u001b[0;32m~/miniforge3/envs/ML/lib/python3.8/site-packages/torchvision/transforms/functional_tensor.py:691\u001b[0m, in \u001b[0;36mrotate\u001b[0;34m(img, matrix, interpolation, expand, fill)\u001b[0m\n\u001b[1;32m    689\u001b[0m theta \u001b[38;5;241m=\u001b[39m torch\u001b[38;5;241m.\u001b[39mtensor(matrix, dtype\u001b[38;5;241m=\u001b[39mdtype, device\u001b[38;5;241m=\u001b[39mimg\u001b[38;5;241m.\u001b[39mdevice)\u001b[38;5;241m.\u001b[39mreshape(\u001b[38;5;241m1\u001b[39m, \u001b[38;5;241m2\u001b[39m, \u001b[38;5;241m3\u001b[39m)\n\u001b[1;32m    690\u001b[0m \u001b[38;5;66;03m# grid will be generated on the same device as theta and img\u001b[39;00m\n\u001b[0;32m--> 691\u001b[0m grid \u001b[38;5;241m=\u001b[39m \u001b[43m_gen_affine_grid\u001b[49m\u001b[43m(\u001b[49m\u001b[43mtheta\u001b[49m\u001b[43m,\u001b[49m\u001b[43m \u001b[49m\u001b[43mw\u001b[49m\u001b[38;5;241;43m=\u001b[39;49m\u001b[43mw\u001b[49m\u001b[43m,\u001b[49m\u001b[43m \u001b[49m\u001b[43mh\u001b[49m\u001b[38;5;241;43m=\u001b[39;49m\u001b[43mh\u001b[49m\u001b[43m,\u001b[49m\u001b[43m \u001b[49m\u001b[43mow\u001b[49m\u001b[38;5;241;43m=\u001b[39;49m\u001b[43mow\u001b[49m\u001b[43m,\u001b[49m\u001b[43m \u001b[49m\u001b[43moh\u001b[49m\u001b[38;5;241;43m=\u001b[39;49m\u001b[43moh\u001b[49m\u001b[43m)\u001b[49m\n\u001b[1;32m    693\u001b[0m \u001b[38;5;28;01mreturn\u001b[39;00m _apply_grid_transform(img, grid, interpolation, fill\u001b[38;5;241m=\u001b[39mfill)\n",
      "File \u001b[0;32m~/miniforge3/envs/ML/lib/python3.8/site-packages/torchvision/transforms/functional_tensor.py:628\u001b[0m, in \u001b[0;36m_gen_affine_grid\u001b[0;34m(theta, w, h, ow, oh)\u001b[0m\n\u001b[1;32m    625\u001b[0m base_grid[\u001b[38;5;241m.\u001b[39m\u001b[38;5;241m.\u001b[39m\u001b[38;5;241m.\u001b[39m, \u001b[38;5;241m2\u001b[39m]\u001b[38;5;241m.\u001b[39mfill_(\u001b[38;5;241m1\u001b[39m)\n\u001b[1;32m    627\u001b[0m rescaled_theta \u001b[38;5;241m=\u001b[39m theta\u001b[38;5;241m.\u001b[39mtranspose(\u001b[38;5;241m1\u001b[39m, \u001b[38;5;241m2\u001b[39m) \u001b[38;5;241m/\u001b[39m torch\u001b[38;5;241m.\u001b[39mtensor([\u001b[38;5;241m0.5\u001b[39m \u001b[38;5;241m*\u001b[39m w, \u001b[38;5;241m0.5\u001b[39m \u001b[38;5;241m*\u001b[39m h], dtype\u001b[38;5;241m=\u001b[39mtheta\u001b[38;5;241m.\u001b[39mdtype, device\u001b[38;5;241m=\u001b[39mtheta\u001b[38;5;241m.\u001b[39mdevice)\n\u001b[0;32m--> 628\u001b[0m output_grid \u001b[38;5;241m=\u001b[39m \u001b[43mbase_grid\u001b[49m\u001b[38;5;241;43m.\u001b[39;49m\u001b[43mview\u001b[49m\u001b[43m(\u001b[49m\u001b[38;5;241;43m1\u001b[39;49m\u001b[43m,\u001b[49m\u001b[43m \u001b[49m\u001b[43moh\u001b[49m\u001b[43m \u001b[49m\u001b[38;5;241;43m*\u001b[39;49m\u001b[43m \u001b[49m\u001b[43mow\u001b[49m\u001b[43m,\u001b[49m\u001b[43m \u001b[49m\u001b[38;5;241;43m3\u001b[39;49m\u001b[43m)\u001b[49m\u001b[38;5;241;43m.\u001b[39;49m\u001b[43mbmm\u001b[49m\u001b[43m(\u001b[49m\u001b[43mrescaled_theta\u001b[49m\u001b[43m)\u001b[49m\n\u001b[1;32m    629\u001b[0m \u001b[38;5;28;01mreturn\u001b[39;00m output_grid\u001b[38;5;241m.\u001b[39mview(\u001b[38;5;241m1\u001b[39m, oh, ow, \u001b[38;5;241m2\u001b[39m)\n",
      "\u001b[0;31mKeyboardInterrupt\u001b[0m: "
     ]
    }
   ],
   "source": [
    "import tqdm\n",
    "history = fit(100'.'l\n",
    "              '.?\"L.\"'', model, train_dataloader, test_dataloader)"
   ]
  },
  {
   "cell_type": "code",
   "execution_count": 143,
   "id": "4beb8811-6ab5-4858-9ae8-bdc39f2d55d2",
   "metadata": {},
   "outputs": [],
   "source": [
    "torch.save(model.state_dict(), './model_trained.pth')"
   ]
  },
  {
   "cell_type": "code",
   "execution_count": 120,
   "id": "de6ac606-4d8e-4696-82ee-e3a6d3e9772f",
   "metadata": {},
   "outputs": [],
   "source": [
    "# model = torch.load('./secondary_model.pth')"
   ]
  },
  {
   "cell_type": "code",
   "execution_count": 20,
   "id": "5f6c8fec",
   "metadata": {},
   "outputs": [
    {
     "data": {
      "text/plain": [
       "<All keys matched successfully>"
      ]
     },
     "execution_count": 20,
     "metadata": {},
     "output_type": "execute_result"
    }
   ],
   "source": [
    "model_1 = model.load_state_dict(torch.load('./secondary_model.pth'))\n",
    "model_1"
   ]
  },
  {
   "cell_type": "code",
   "execution_count": 146,
   "id": "ec2d6c4b",
   "metadata": {},
   "outputs": [
    {
     "data": {
      "text/plain": [
       "<All keys matched successfully>"
      ]
     },
     "execution_count": 146,
     "metadata": {},
     "output_type": "execute_result"
    }
   ],
   "source": [
    "model__1.load_state_dict(torch.load('./secondary_model.pth'))"
   ]
  },
  {
   "cell_type": "code",
   "execution_count": 22,
   "id": "493425b2",
   "metadata": {},
   "outputs": [
    {
     "data": {
      "text/plain": [
       "{'val_loss': 1.1182469129562378, 'val_acc': 0.7058823704719543}"
      ]
     },
     "execution_count": 22,
     "metadata": {},
     "output_type": "execute_result"
    }
   ],
   "source": [
    "evaluate(model,test_dataloader)"
   ]
  },
  {
   "cell_type": "code",
   "execution_count": 261,
   "id": "16524399",
   "metadata": {},
   "outputs": [],
   "source": [
    "import cv2\n",
    "import torch\n",
    "import torchvision\n",
    "import cv2\n",
    "import numpy as np\n",
    "from torch import nn\n",
    "import timm\n",
    "import torch.nn.functional as F\n",
    "\n",
    "def getModel():\n",
    "    label2pred = {'Cataracts': 0, 'Glaucoma': 1, 'Healthy': 2, 'Uveitis': 3}\n",
    "    n_classes = 4\n",
    "    class IrisDisease(torch.utils.data.Dataset):\n",
    "        def __init__(self, image_paths, labels, transforms=None):\n",
    "            super(IrisDisease, self).__init__()\n",
    "            self.image_paths = image_paths\n",
    "            self.labels = labels\n",
    "            self.transforms = transforms\n",
    "        def __len__(self):\n",
    "            return len(self.image_paths)\n",
    "        def __getitem__(self, idx):\n",
    "            image = cv2.imread(self.image_paths[idx])\n",
    "            image = cv2.cvtColor(image, cv2.COLOR_BGR2RGB)\n",
    "            image = cv2.resize(image, (224, 224))\n",
    "            label = self.labels[idx]\n",
    "            label = label2pred[label]\n",
    "            label = torch.tensor(label)\n",
    "            if self.transforms:\n",
    "                image = self.transforms(image)\n",
    "            return image, label        \n",
    "    device='mps'\n",
    "    tr_transforms = torchvision.transforms.Compose([\n",
    "        torchvision.transforms.ToTensor(),\n",
    "        torchvision.transforms.RandomHorizontalFlip(1.0),\n",
    "        torchvision.transforms.CenterCrop(224),\n",
    "        torchvision.transforms.RandomRotation(60),\n",
    "        torchvision.transforms.RandomVerticalFlip(1.0),\n",
    "        torchvision.transforms.Normalize([0.485, 0.456, 0.406], [0.229, 0.224, 0.225])\n",
    "    ])\n",
    "    val_transforms = torchvision.transforms.Compose([\n",
    "        torchvision.transforms.ToTensor(),\n",
    "        torchvision.transforms.Normalize([0.485, 0.456, 0.406], [0.229, 0.224, 0.225]),\n",
    "        torchvision.transforms.Resize((224,224))\n",
    "    ])\n",
    "    class ClassificationBase(nn.Module):\n",
    "        def training_step(self, batch):\n",
    "            images, labels = batch\n",
    "            images = images.to(device)\n",
    "            labels = labels.to(device)\n",
    "            out = self(images)\n",
    "            loss = F.cross_entropy(out, labels)\n",
    "            acc = accuracy(out, labels)          \n",
    "            return loss, acc\n",
    "        def validation_step(self, batch):\n",
    "            images, labels = batch \n",
    "            images = images.to(device)\n",
    "            labels = labels.to(device)\n",
    "            out = self(images)                    \n",
    "            loss = F.cross_entropy(out, labels)  \n",
    "            acc = accuracy(out, labels)          \n",
    "            return {'val_loss': loss.detach(), 'val_acc': acc}\n",
    "        def validation_epoch_end(self, outputs):\n",
    "            batch_losses = [x['val_loss'] for x in outputs]\n",
    "            epoch_loss = torch.stack(batch_losses).mean()   \n",
    "            batch_accs = [x['val_acc'] for x in outputs]\n",
    "            epoch_acc = torch.stack(batch_accs).mean()    \n",
    "            return {'val_loss': epoch_loss.item(), 'val_acc': epoch_acc.item()}        \n",
    "        def epoch_end(self, epoch, result):\n",
    "            print(\"Epoch [{}], val_loss: {:.4f}, val_acc: {:.4f}\".format(epoch, result['val_loss'], result['val_acc']))\n",
    "    def accuracy(outputs, labels):\n",
    "        _, preds = torch.max(outputs, dim=1)\n",
    "        return torch.tensor(torch.sum(preds == labels).item() / len(preds))\n",
    "    def evaluate(model, val_loader):\n",
    "        outputs = [model.validation_step(batch) for batch in val_loader]\n",
    "        return model.validation_epoch_end(outputs)\n",
    "    class EfficientNetB0(ClassificationBase):\n",
    "        def __init__(self):\n",
    "            super().__init__()\n",
    "            self.network = timm.create_model('efficientnet_b0', pretrained=True)\n",
    "            num_ftrs = self.network.classifier.in_features\n",
    "            self.network.classifier = nn.Linear(num_ftrs, n_classes)\n",
    "        def forward(self, batch):\n",
    "            batch = batch.to(device)\n",
    "            return torch.sigmoid(self.network(batch))\n",
    "    model = EfficientNetB0()\n",
    "    model = model.to('mps')\n",
    "    model.load_state_dict(torch.load('/Users/deveshkedia/Desktop/Projects/Doing/DiseaseDetection/Models/model_trained.pth'))\n",
    "    return model\n",
    "val_transforms = torchvision.transforms.Compose([\n",
    "        torchvision.transforms.ToTensor(),\n",
    "        torchvision.transforms.Normalize([0.485, 0.456, 0.406], [0.229, 0.224, 0.225]),\n",
    "        torchvision.transforms.Resize((224,224))\n",
    "    ])\n"
   ]
  },
  {
   "cell_type": "code",
   "execution_count": 262,
   "id": "033fe484",
   "metadata": {},
   "outputs": [],
   "source": [
    "model = getModel()"
   ]
  },
  {
   "cell_type": "code",
   "execution_count": 51,
   "id": "c847acbe",
   "metadata": {},
   "outputs": [],
   "source": [
    "val_transforms = torchvision.transforms.Compose([\n",
    "        torchvision.transforms.ToTensor(),\n",
    "        torchvision.transforms.Normalize([0.485, 0.456, 0.406], [0.229, 0.224, 0.225]),\n",
    "        torchvision.transforms.Resize((224,224))\n",
    "    ])\n",
    "\n",
    "image = cv2.imread('./Data/Healthy/0.jpg')\n",
    "image = cv2.cvtColor(image,cv2.COLOR_BGR2RGB)\n",
    "image = val_transforms(image)\n",
    "image = image.to('mps')\n",
    "image = torch.reshape(image,(1,3,224,224))\n",
    "pred = model(image).detach()\n",
    "pred = pred.cpu()\n",
    "pred = np.argmax(pred).item()\n",
    "pred = pred2label[pred]\n"
   ]
  },
  {
   "cell_type": "code",
   "execution_count": 52,
   "id": "e348d6ce",
   "metadata": {},
   "outputs": [
    {
     "data": {
      "text/plain": [
       "'Healthy'"
      ]
     },
     "execution_count": 52,
     "metadata": {},
     "output_type": "execute_result"
    }
   ],
   "source": [
    "pred"
   ]
  },
  {
   "cell_type": "code",
   "execution_count": 46,
   "id": "eaa583f4",
   "metadata": {},
   "outputs": [
    {
     "data": {
      "text/plain": [
       "{0: 'Cataracts', 1: 'Glaucoma', 2: 'Healthy', 3: 'Uveitis'}"
      ]
     },
     "execution_count": 46,
     "metadata": {},
     "output_type": "execute_result"
    }
   ],
   "source": [
    "pred2label"
   ]
  },
  {
   "cell_type": "code",
   "execution_count": 41,
   "id": "4dcaddac",
   "metadata": {},
   "outputs": [
    {
     "data": {
      "text/plain": [
       "EfficientNetB0(\n",
       "  (network): EfficientNet(\n",
       "    (conv_stem): Conv2d(3, 32, kernel_size=(3, 3), stride=(2, 2), padding=(1, 1), bias=False)\n",
       "    (bn1): BatchNormAct2d(\n",
       "      32, eps=1e-05, momentum=0.1, affine=True, track_running_stats=True\n",
       "      (drop): Identity()\n",
       "      (act): SiLU(inplace=True)\n",
       "    )\n",
       "    (blocks): Sequential(\n",
       "      (0): Sequential(\n",
       "        (0): DepthwiseSeparableConv(\n",
       "          (conv_dw): Conv2d(32, 32, kernel_size=(3, 3), stride=(1, 1), padding=(1, 1), groups=32, bias=False)\n",
       "          (bn1): BatchNormAct2d(\n",
       "            32, eps=1e-05, momentum=0.1, affine=True, track_running_stats=True\n",
       "            (drop): Identity()\n",
       "            (act): SiLU(inplace=True)\n",
       "          )\n",
       "          (se): SqueezeExcite(\n",
       "            (conv_reduce): Conv2d(32, 8, kernel_size=(1, 1), stride=(1, 1))\n",
       "            (act1): SiLU(inplace=True)\n",
       "            (conv_expand): Conv2d(8, 32, kernel_size=(1, 1), stride=(1, 1))\n",
       "            (gate): Sigmoid()\n",
       "          )\n",
       "          (conv_pw): Conv2d(32, 16, kernel_size=(1, 1), stride=(1, 1), bias=False)\n",
       "          (bn2): BatchNormAct2d(\n",
       "            16, eps=1e-05, momentum=0.1, affine=True, track_running_stats=True\n",
       "            (drop): Identity()\n",
       "            (act): Identity()\n",
       "          )\n",
       "          (drop_path): Identity()\n",
       "        )\n",
       "      )\n",
       "      (1): Sequential(\n",
       "        (0): InvertedResidual(\n",
       "          (conv_pw): Conv2d(16, 96, kernel_size=(1, 1), stride=(1, 1), bias=False)\n",
       "          (bn1): BatchNormAct2d(\n",
       "            96, eps=1e-05, momentum=0.1, affine=True, track_running_stats=True\n",
       "            (drop): Identity()\n",
       "            (act): SiLU(inplace=True)\n",
       "          )\n",
       "          (conv_dw): Conv2d(96, 96, kernel_size=(3, 3), stride=(2, 2), padding=(1, 1), groups=96, bias=False)\n",
       "          (bn2): BatchNormAct2d(\n",
       "            96, eps=1e-05, momentum=0.1, affine=True, track_running_stats=True\n",
       "            (drop): Identity()\n",
       "            (act): SiLU(inplace=True)\n",
       "          )\n",
       "          (se): SqueezeExcite(\n",
       "            (conv_reduce): Conv2d(96, 4, kernel_size=(1, 1), stride=(1, 1))\n",
       "            (act1): SiLU(inplace=True)\n",
       "            (conv_expand): Conv2d(4, 96, kernel_size=(1, 1), stride=(1, 1))\n",
       "            (gate): Sigmoid()\n",
       "          )\n",
       "          (conv_pwl): Conv2d(96, 24, kernel_size=(1, 1), stride=(1, 1), bias=False)\n",
       "          (bn3): BatchNormAct2d(\n",
       "            24, eps=1e-05, momentum=0.1, affine=True, track_running_stats=True\n",
       "            (drop): Identity()\n",
       "            (act): Identity()\n",
       "          )\n",
       "          (drop_path): Identity()\n",
       "        )\n",
       "        (1): InvertedResidual(\n",
       "          (conv_pw): Conv2d(24, 144, kernel_size=(1, 1), stride=(1, 1), bias=False)\n",
       "          (bn1): BatchNormAct2d(\n",
       "            144, eps=1e-05, momentum=0.1, affine=True, track_running_stats=True\n",
       "            (drop): Identity()\n",
       "            (act): SiLU(inplace=True)\n",
       "          )\n",
       "          (conv_dw): Conv2d(144, 144, kernel_size=(3, 3), stride=(1, 1), padding=(1, 1), groups=144, bias=False)\n",
       "          (bn2): BatchNormAct2d(\n",
       "            144, eps=1e-05, momentum=0.1, affine=True, track_running_stats=True\n",
       "            (drop): Identity()\n",
       "            (act): SiLU(inplace=True)\n",
       "          )\n",
       "          (se): SqueezeExcite(\n",
       "            (conv_reduce): Conv2d(144, 6, kernel_size=(1, 1), stride=(1, 1))\n",
       "            (act1): SiLU(inplace=True)\n",
       "            (conv_expand): Conv2d(6, 144, kernel_size=(1, 1), stride=(1, 1))\n",
       "            (gate): Sigmoid()\n",
       "          )\n",
       "          (conv_pwl): Conv2d(144, 24, kernel_size=(1, 1), stride=(1, 1), bias=False)\n",
       "          (bn3): BatchNormAct2d(\n",
       "            24, eps=1e-05, momentum=0.1, affine=True, track_running_stats=True\n",
       "            (drop): Identity()\n",
       "            (act): Identity()\n",
       "          )\n",
       "          (drop_path): Identity()\n",
       "        )\n",
       "      )\n",
       "      (2): Sequential(\n",
       "        (0): InvertedResidual(\n",
       "          (conv_pw): Conv2d(24, 144, kernel_size=(1, 1), stride=(1, 1), bias=False)\n",
       "          (bn1): BatchNormAct2d(\n",
       "            144, eps=1e-05, momentum=0.1, affine=True, track_running_stats=True\n",
       "            (drop): Identity()\n",
       "            (act): SiLU(inplace=True)\n",
       "          )\n",
       "          (conv_dw): Conv2d(144, 144, kernel_size=(5, 5), stride=(2, 2), padding=(2, 2), groups=144, bias=False)\n",
       "          (bn2): BatchNormAct2d(\n",
       "            144, eps=1e-05, momentum=0.1, affine=True, track_running_stats=True\n",
       "            (drop): Identity()\n",
       "            (act): SiLU(inplace=True)\n",
       "          )\n",
       "          (se): SqueezeExcite(\n",
       "            (conv_reduce): Conv2d(144, 6, kernel_size=(1, 1), stride=(1, 1))\n",
       "            (act1): SiLU(inplace=True)\n",
       "            (conv_expand): Conv2d(6, 144, kernel_size=(1, 1), stride=(1, 1))\n",
       "            (gate): Sigmoid()\n",
       "          )\n",
       "          (conv_pwl): Conv2d(144, 40, kernel_size=(1, 1), stride=(1, 1), bias=False)\n",
       "          (bn3): BatchNormAct2d(\n",
       "            40, eps=1e-05, momentum=0.1, affine=True, track_running_stats=True\n",
       "            (drop): Identity()\n",
       "            (act): Identity()\n",
       "          )\n",
       "          (drop_path): Identity()\n",
       "        )\n",
       "        (1): InvertedResidual(\n",
       "          (conv_pw): Conv2d(40, 240, kernel_size=(1, 1), stride=(1, 1), bias=False)\n",
       "          (bn1): BatchNormAct2d(\n",
       "            240, eps=1e-05, momentum=0.1, affine=True, track_running_stats=True\n",
       "            (drop): Identity()\n",
       "            (act): SiLU(inplace=True)\n",
       "          )\n",
       "          (conv_dw): Conv2d(240, 240, kernel_size=(5, 5), stride=(1, 1), padding=(2, 2), groups=240, bias=False)\n",
       "          (bn2): BatchNormAct2d(\n",
       "            240, eps=1e-05, momentum=0.1, affine=True, track_running_stats=True\n",
       "            (drop): Identity()\n",
       "            (act): SiLU(inplace=True)\n",
       "          )\n",
       "          (se): SqueezeExcite(\n",
       "            (conv_reduce): Conv2d(240, 10, kernel_size=(1, 1), stride=(1, 1))\n",
       "            (act1): SiLU(inplace=True)\n",
       "            (conv_expand): Conv2d(10, 240, kernel_size=(1, 1), stride=(1, 1))\n",
       "            (gate): Sigmoid()\n",
       "          )\n",
       "          (conv_pwl): Conv2d(240, 40, kernel_size=(1, 1), stride=(1, 1), bias=False)\n",
       "          (bn3): BatchNormAct2d(\n",
       "            40, eps=1e-05, momentum=0.1, affine=True, track_running_stats=True\n",
       "            (drop): Identity()\n",
       "            (act): Identity()\n",
       "          )\n",
       "          (drop_path): Identity()\n",
       "        )\n",
       "      )\n",
       "      (3): Sequential(\n",
       "        (0): InvertedResidual(\n",
       "          (conv_pw): Conv2d(40, 240, kernel_size=(1, 1), stride=(1, 1), bias=False)\n",
       "          (bn1): BatchNormAct2d(\n",
       "            240, eps=1e-05, momentum=0.1, affine=True, track_running_stats=True\n",
       "            (drop): Identity()\n",
       "            (act): SiLU(inplace=True)\n",
       "          )\n",
       "          (conv_dw): Conv2d(240, 240, kernel_size=(3, 3), stride=(2, 2), padding=(1, 1), groups=240, bias=False)\n",
       "          (bn2): BatchNormAct2d(\n",
       "            240, eps=1e-05, momentum=0.1, affine=True, track_running_stats=True\n",
       "            (drop): Identity()\n",
       "            (act): SiLU(inplace=True)\n",
       "          )\n",
       "          (se): SqueezeExcite(\n",
       "            (conv_reduce): Conv2d(240, 10, kernel_size=(1, 1), stride=(1, 1))\n",
       "            (act1): SiLU(inplace=True)\n",
       "            (conv_expand): Conv2d(10, 240, kernel_size=(1, 1), stride=(1, 1))\n",
       "            (gate): Sigmoid()\n",
       "          )\n",
       "          (conv_pwl): Conv2d(240, 80, kernel_size=(1, 1), stride=(1, 1), bias=False)\n",
       "          (bn3): BatchNormAct2d(\n",
       "            80, eps=1e-05, momentum=0.1, affine=True, track_running_stats=True\n",
       "            (drop): Identity()\n",
       "            (act): Identity()\n",
       "          )\n",
       "          (drop_path): Identity()\n",
       "        )\n",
       "        (1): InvertedResidual(\n",
       "          (conv_pw): Conv2d(80, 480, kernel_size=(1, 1), stride=(1, 1), bias=False)\n",
       "          (bn1): BatchNormAct2d(\n",
       "            480, eps=1e-05, momentum=0.1, affine=True, track_running_stats=True\n",
       "            (drop): Identity()\n",
       "            (act): SiLU(inplace=True)\n",
       "          )\n",
       "          (conv_dw): Conv2d(480, 480, kernel_size=(3, 3), stride=(1, 1), padding=(1, 1), groups=480, bias=False)\n",
       "          (bn2): BatchNormAct2d(\n",
       "            480, eps=1e-05, momentum=0.1, affine=True, track_running_stats=True\n",
       "            (drop): Identity()\n",
       "            (act): SiLU(inplace=True)\n",
       "          )\n",
       "          (se): SqueezeExcite(\n",
       "            (conv_reduce): Conv2d(480, 20, kernel_size=(1, 1), stride=(1, 1))\n",
       "            (act1): SiLU(inplace=True)\n",
       "            (conv_expand): Conv2d(20, 480, kernel_size=(1, 1), stride=(1, 1))\n",
       "            (gate): Sigmoid()\n",
       "          )\n",
       "          (conv_pwl): Conv2d(480, 80, kernel_size=(1, 1), stride=(1, 1), bias=False)\n",
       "          (bn3): BatchNormAct2d(\n",
       "            80, eps=1e-05, momentum=0.1, affine=True, track_running_stats=True\n",
       "            (drop): Identity()\n",
       "            (act): Identity()\n",
       "          )\n",
       "          (drop_path): Identity()\n",
       "        )\n",
       "        (2): InvertedResidual(\n",
       "          (conv_pw): Conv2d(80, 480, kernel_size=(1, 1), stride=(1, 1), bias=False)\n",
       "          (bn1): BatchNormAct2d(\n",
       "            480, eps=1e-05, momentum=0.1, affine=True, track_running_stats=True\n",
       "            (drop): Identity()\n",
       "            (act): SiLU(inplace=True)\n",
       "          )\n",
       "          (conv_dw): Conv2d(480, 480, kernel_size=(3, 3), stride=(1, 1), padding=(1, 1), groups=480, bias=False)\n",
       "          (bn2): BatchNormAct2d(\n",
       "            480, eps=1e-05, momentum=0.1, affine=True, track_running_stats=True\n",
       "            (drop): Identity()\n",
       "            (act): SiLU(inplace=True)\n",
       "          )\n",
       "          (se): SqueezeExcite(\n",
       "            (conv_reduce): Conv2d(480, 20, kernel_size=(1, 1), stride=(1, 1))\n",
       "            (act1): SiLU(inplace=True)\n",
       "            (conv_expand): Conv2d(20, 480, kernel_size=(1, 1), stride=(1, 1))\n",
       "            (gate): Sigmoid()\n",
       "          )\n",
       "          (conv_pwl): Conv2d(480, 80, kernel_size=(1, 1), stride=(1, 1), bias=False)\n",
       "          (bn3): BatchNormAct2d(\n",
       "            80, eps=1e-05, momentum=0.1, affine=True, track_running_stats=True\n",
       "            (drop): Identity()\n",
       "            (act): Identity()\n",
       "          )\n",
       "          (drop_path): Identity()\n",
       "        )\n",
       "      )\n",
       "      (4): Sequential(\n",
       "        (0): InvertedResidual(\n",
       "          (conv_pw): Conv2d(80, 480, kernel_size=(1, 1), stride=(1, 1), bias=False)\n",
       "          (bn1): BatchNormAct2d(\n",
       "            480, eps=1e-05, momentum=0.1, affine=True, track_running_stats=True\n",
       "            (drop): Identity()\n",
       "            (act): SiLU(inplace=True)\n",
       "          )\n",
       "          (conv_dw): Conv2d(480, 480, kernel_size=(5, 5), stride=(1, 1), padding=(2, 2), groups=480, bias=False)\n",
       "          (bn2): BatchNormAct2d(\n",
       "            480, eps=1e-05, momentum=0.1, affine=True, track_running_stats=True\n",
       "            (drop): Identity()\n",
       "            (act): SiLU(inplace=True)\n",
       "          )\n",
       "          (se): SqueezeExcite(\n",
       "            (conv_reduce): Conv2d(480, 20, kernel_size=(1, 1), stride=(1, 1))\n",
       "            (act1): SiLU(inplace=True)\n",
       "            (conv_expand): Conv2d(20, 480, kernel_size=(1, 1), stride=(1, 1))\n",
       "            (gate): Sigmoid()\n",
       "          )\n",
       "          (conv_pwl): Conv2d(480, 112, kernel_size=(1, 1), stride=(1, 1), bias=False)\n",
       "          (bn3): BatchNormAct2d(\n",
       "            112, eps=1e-05, momentum=0.1, affine=True, track_running_stats=True\n",
       "            (drop): Identity()\n",
       "            (act): Identity()\n",
       "          )\n",
       "          (drop_path): Identity()\n",
       "        )\n",
       "        (1): InvertedResidual(\n",
       "          (conv_pw): Conv2d(112, 672, kernel_size=(1, 1), stride=(1, 1), bias=False)\n",
       "          (bn1): BatchNormAct2d(\n",
       "            672, eps=1e-05, momentum=0.1, affine=True, track_running_stats=True\n",
       "            (drop): Identity()\n",
       "            (act): SiLU(inplace=True)\n",
       "          )\n",
       "          (conv_dw): Conv2d(672, 672, kernel_size=(5, 5), stride=(1, 1), padding=(2, 2), groups=672, bias=False)\n",
       "          (bn2): BatchNormAct2d(\n",
       "            672, eps=1e-05, momentum=0.1, affine=True, track_running_stats=True\n",
       "            (drop): Identity()\n",
       "            (act): SiLU(inplace=True)\n",
       "          )\n",
       "          (se): SqueezeExcite(\n",
       "            (conv_reduce): Conv2d(672, 28, kernel_size=(1, 1), stride=(1, 1))\n",
       "            (act1): SiLU(inplace=True)\n",
       "            (conv_expand): Conv2d(28, 672, kernel_size=(1, 1), stride=(1, 1))\n",
       "            (gate): Sigmoid()\n",
       "          )\n",
       "          (conv_pwl): Conv2d(672, 112, kernel_size=(1, 1), stride=(1, 1), bias=False)\n",
       "          (bn3): BatchNormAct2d(\n",
       "            112, eps=1e-05, momentum=0.1, affine=True, track_running_stats=True\n",
       "            (drop): Identity()\n",
       "            (act): Identity()\n",
       "          )\n",
       "          (drop_path): Identity()\n",
       "        )\n",
       "        (2): InvertedResidual(\n",
       "          (conv_pw): Conv2d(112, 672, kernel_size=(1, 1), stride=(1, 1), bias=False)\n",
       "          (bn1): BatchNormAct2d(\n",
       "            672, eps=1e-05, momentum=0.1, affine=True, track_running_stats=True\n",
       "            (drop): Identity()\n",
       "            (act): SiLU(inplace=True)\n",
       "          )\n",
       "          (conv_dw): Conv2d(672, 672, kernel_size=(5, 5), stride=(1, 1), padding=(2, 2), groups=672, bias=False)\n",
       "          (bn2): BatchNormAct2d(\n",
       "            672, eps=1e-05, momentum=0.1, affine=True, track_running_stats=True\n",
       "            (drop): Identity()\n",
       "            (act): SiLU(inplace=True)\n",
       "          )\n",
       "          (se): SqueezeExcite(\n",
       "            (conv_reduce): Conv2d(672, 28, kernel_size=(1, 1), stride=(1, 1))\n",
       "            (act1): SiLU(inplace=True)\n",
       "            (conv_expand): Conv2d(28, 672, kernel_size=(1, 1), stride=(1, 1))\n",
       "            (gate): Sigmoid()\n",
       "          )\n",
       "          (conv_pwl): Conv2d(672, 112, kernel_size=(1, 1), stride=(1, 1), bias=False)\n",
       "          (bn3): BatchNormAct2d(\n",
       "            112, eps=1e-05, momentum=0.1, affine=True, track_running_stats=True\n",
       "            (drop): Identity()\n",
       "            (act): Identity()\n",
       "          )\n",
       "          (drop_path): Identity()\n",
       "        )\n",
       "      )\n",
       "      (5): Sequential(\n",
       "        (0): InvertedResidual(\n",
       "          (conv_pw): Conv2d(112, 672, kernel_size=(1, 1), stride=(1, 1), bias=False)\n",
       "          (bn1): BatchNormAct2d(\n",
       "            672, eps=1e-05, momentum=0.1, affine=True, track_running_stats=True\n",
       "            (drop): Identity()\n",
       "            (act): SiLU(inplace=True)\n",
       "          )\n",
       "          (conv_dw): Conv2d(672, 672, kernel_size=(5, 5), stride=(2, 2), padding=(2, 2), groups=672, bias=False)\n",
       "          (bn2): BatchNormAct2d(\n",
       "            672, eps=1e-05, momentum=0.1, affine=True, track_running_stats=True\n",
       "            (drop): Identity()\n",
       "            (act): SiLU(inplace=True)\n",
       "          )\n",
       "          (se): SqueezeExcite(\n",
       "            (conv_reduce): Conv2d(672, 28, kernel_size=(1, 1), stride=(1, 1))\n",
       "            (act1): SiLU(inplace=True)\n",
       "            (conv_expand): Conv2d(28, 672, kernel_size=(1, 1), stride=(1, 1))\n",
       "            (gate): Sigmoid()\n",
       "          )\n",
       "          (conv_pwl): Conv2d(672, 192, kernel_size=(1, 1), stride=(1, 1), bias=False)\n",
       "          (bn3): BatchNormAct2d(\n",
       "            192, eps=1e-05, momentum=0.1, affine=True, track_running_stats=True\n",
       "            (drop): Identity()\n",
       "            (act): Identity()\n",
       "          )\n",
       "          (drop_path): Identity()\n",
       "        )\n",
       "        (1): InvertedResidual(\n",
       "          (conv_pw): Conv2d(192, 1152, kernel_size=(1, 1), stride=(1, 1), bias=False)\n",
       "          (bn1): BatchNormAct2d(\n",
       "            1152, eps=1e-05, momentum=0.1, affine=True, track_running_stats=True\n",
       "            (drop): Identity()\n",
       "            (act): SiLU(inplace=True)\n",
       "          )\n",
       "          (conv_dw): Conv2d(1152, 1152, kernel_size=(5, 5), stride=(1, 1), padding=(2, 2), groups=1152, bias=False)\n",
       "          (bn2): BatchNormAct2d(\n",
       "            1152, eps=1e-05, momentum=0.1, affine=True, track_running_stats=True\n",
       "            (drop): Identity()\n",
       "            (act): SiLU(inplace=True)\n",
       "          )\n",
       "          (se): SqueezeExcite(\n",
       "            (conv_reduce): Conv2d(1152, 48, kernel_size=(1, 1), stride=(1, 1))\n",
       "            (act1): SiLU(inplace=True)\n",
       "            (conv_expand): Conv2d(48, 1152, kernel_size=(1, 1), stride=(1, 1))\n",
       "            (gate): Sigmoid()\n",
       "          )\n",
       "          (conv_pwl): Conv2d(1152, 192, kernel_size=(1, 1), stride=(1, 1), bias=False)\n",
       "          (bn3): BatchNormAct2d(\n",
       "            192, eps=1e-05, momentum=0.1, affine=True, track_running_stats=True\n",
       "            (drop): Identity()\n",
       "            (act): Identity()\n",
       "          )\n",
       "          (drop_path): Identity()\n",
       "        )\n",
       "        (2): InvertedResidual(\n",
       "          (conv_pw): Conv2d(192, 1152, kernel_size=(1, 1), stride=(1, 1), bias=False)\n",
       "          (bn1): BatchNormAct2d(\n",
       "            1152, eps=1e-05, momentum=0.1, affine=True, track_running_stats=True\n",
       "            (drop): Identity()\n",
       "            (act): SiLU(inplace=True)\n",
       "          )\n",
       "          (conv_dw): Conv2d(1152, 1152, kernel_size=(5, 5), stride=(1, 1), padding=(2, 2), groups=1152, bias=False)\n",
       "          (bn2): BatchNormAct2d(\n",
       "            1152, eps=1e-05, momentum=0.1, affine=True, track_running_stats=True\n",
       "            (drop): Identity()\n",
       "            (act): SiLU(inplace=True)\n",
       "          )\n",
       "          (se): SqueezeExcite(\n",
       "            (conv_reduce): Conv2d(1152, 48, kernel_size=(1, 1), stride=(1, 1))\n",
       "            (act1): SiLU(inplace=True)\n",
       "            (conv_expand): Conv2d(48, 1152, kernel_size=(1, 1), stride=(1, 1))\n",
       "            (gate): Sigmoid()\n",
       "          )\n",
       "          (conv_pwl): Conv2d(1152, 192, kernel_size=(1, 1), stride=(1, 1), bias=False)\n",
       "          (bn3): BatchNormAct2d(\n",
       "            192, eps=1e-05, momentum=0.1, affine=True, track_running_stats=True\n",
       "            (drop): Identity()\n",
       "            (act): Identity()\n",
       "          )\n",
       "          (drop_path): Identity()\n",
       "        )\n",
       "        (3): InvertedResidual(\n",
       "          (conv_pw): Conv2d(192, 1152, kernel_size=(1, 1), stride=(1, 1), bias=False)\n",
       "          (bn1): BatchNormAct2d(\n",
       "            1152, eps=1e-05, momentum=0.1, affine=True, track_running_stats=True\n",
       "            (drop): Identity()\n",
       "            (act): SiLU(inplace=True)\n",
       "          )\n",
       "          (conv_dw): Conv2d(1152, 1152, kernel_size=(5, 5), stride=(1, 1), padding=(2, 2), groups=1152, bias=False)\n",
       "          (bn2): BatchNormAct2d(\n",
       "            1152, eps=1e-05, momentum=0.1, affine=True, track_running_stats=True\n",
       "            (drop): Identity()\n",
       "            (act): SiLU(inplace=True)\n",
       "          )\n",
       "          (se): SqueezeExcite(\n",
       "            (conv_reduce): Conv2d(1152, 48, kernel_size=(1, 1), stride=(1, 1))\n",
       "            (act1): SiLU(inplace=True)\n",
       "            (conv_expand): Conv2d(48, 1152, kernel_size=(1, 1), stride=(1, 1))\n",
       "            (gate): Sigmoid()\n",
       "          )\n",
       "          (conv_pwl): Conv2d(1152, 192, kernel_size=(1, 1), stride=(1, 1), bias=False)\n",
       "          (bn3): BatchNormAct2d(\n",
       "            192, eps=1e-05, momentum=0.1, affine=True, track_running_stats=True\n",
       "            (drop): Identity()\n",
       "            (act): Identity()\n",
       "          )\n",
       "          (drop_path): Identity()\n",
       "        )\n",
       "      )\n",
       "      (6): Sequential(\n",
       "        (0): InvertedResidual(\n",
       "          (conv_pw): Conv2d(192, 1152, kernel_size=(1, 1), stride=(1, 1), bias=False)\n",
       "          (bn1): BatchNormAct2d(\n",
       "            1152, eps=1e-05, momentum=0.1, affine=True, track_running_stats=True\n",
       "            (drop): Identity()\n",
       "            (act): SiLU(inplace=True)\n",
       "          )\n",
       "          (conv_dw): Conv2d(1152, 1152, kernel_size=(3, 3), stride=(1, 1), padding=(1, 1), groups=1152, bias=False)\n",
       "          (bn2): BatchNormAct2d(\n",
       "            1152, eps=1e-05, momentum=0.1, affine=True, track_running_stats=True\n",
       "            (drop): Identity()\n",
       "            (act): SiLU(inplace=True)\n",
       "          )\n",
       "          (se): SqueezeExcite(\n",
       "            (conv_reduce): Conv2d(1152, 48, kernel_size=(1, 1), stride=(1, 1))\n",
       "            (act1): SiLU(inplace=True)\n",
       "            (conv_expand): Conv2d(48, 1152, kernel_size=(1, 1), stride=(1, 1))\n",
       "            (gate): Sigmoid()\n",
       "          )\n",
       "          (conv_pwl): Conv2d(1152, 320, kernel_size=(1, 1), stride=(1, 1), bias=False)\n",
       "          (bn3): BatchNormAct2d(\n",
       "            320, eps=1e-05, momentum=0.1, affine=True, track_running_stats=True\n",
       "            (drop): Identity()\n",
       "            (act): Identity()\n",
       "          )\n",
       "          (drop_path): Identity()\n",
       "        )\n",
       "      )\n",
       "    )\n",
       "    (conv_head): Conv2d(320, 1280, kernel_size=(1, 1), stride=(1, 1), bias=False)\n",
       "    (bn2): BatchNormAct2d(\n",
       "      1280, eps=1e-05, momentum=0.1, affine=True, track_running_stats=True\n",
       "      (drop): Identity()\n",
       "      (act): SiLU(inplace=True)\n",
       "    )\n",
       "    (global_pool): SelectAdaptivePool2d (pool_type=avg, flatten=Flatten(start_dim=1, end_dim=-1))\n",
       "    (classifier): Linear(in_features=1280, out_features=4, bias=True)\n",
       "  )\n",
       ")"
      ]
     },
     "execution_count": 41,
     "metadata": {},
     "output_type": "execute_result"
    }
   ],
   "source": [
    "model.eval()"
   ]
  },
  {
   "cell_type": "code",
   "execution_count": null,
   "id": "08f13a9c",
   "metadata": {},
   "outputs": [],
   "source": []
  }
 ],
 "metadata": {
  "kernelspec": {
   "display_name": "Python 3 (ipykernel)",
   "language": "python",
   "name": "python3"
  },
  "language_info": {
   "codemirror_mode": {
    "name": "ipython",
    "version": 3
   },
   "file_extension": ".py",
   "mimetype": "text/x-python",
   "name": "python",
   "nbconvert_exporter": "python",
   "pygments_lexer": "ipython3",
   "version": "3.8.13"
  },
  "widgets": {
   "application/vnd.jupyter.widget-state+json": {
    "state": {},
    "version_major": 2,
    "version_minor": 0
   }
  }
 },
 "nbformat": 4,
 "nbformat_minor": 5
}
