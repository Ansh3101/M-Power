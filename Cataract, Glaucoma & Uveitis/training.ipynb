{
 "cells": [
  {
   "cell_type": "code",
   "execution_count": 1,
   "id": "e65978e1-8356-4c14-9307-fba2f9f4709b",
   "metadata": {},
   "outputs": [],
   "source": [
    "import torch\n",
    "import torchvision\n",
    "import os\n",
    "import cv2\n",
    "import numpy as np\n",
    "from torch import nn\n",
    "from glob import glob\n",
    "import timm\n",
    "import torch.nn.functional as F"
   ]
  },
  {
   "cell_type": "code",
   "execution_count": 2,
   "id": "b04843cb-0c57-40e8-84e5-30b0d359e0a7",
   "metadata": {},
   "outputs": [],
   "source": [
    "image_paths = './Data/1./*/*'\n",
    "image_paths = glob(image_paths)"
   ]
  },
  {
   "cell_type": "code",
   "execution_count": 3,
   "id": "8629ecf4-3d32-4a97-9a18-4c93ce9071e5",
   "metadata": {},
   "outputs": [
    {
     "data": {
      "text/plain": [
       "['./Data/1./Glaucoma/images-30.jpeg',\n",
       " './Data/1./Glaucoma/image-3.jpeg',\n",
       " './Data/1./Glaucoma/images-71.jpeg',\n",
       " './Data/1./Glaucoma/images-26.jpeg',\n",
       " './Data/1./Glaucoma/images-3.jpeg',\n",
       " './Data/1./Glaucoma/images-51.jpeg',\n",
       " './Data/1./Glaucoma/images-10.jpeg',\n",
       " './Data/1./Glaucoma/images-47.jpeg',\n",
       " './Data/1./Glaucoma/images-46.jpeg',\n",
       " './Data/1./Glaucoma/images-11.jpeg',\n",
       " './Data/1./Glaucoma/images-50.jpeg',\n",
       " './Data/1./Glaucoma/images.jpeg',\n",
       " './Data/1./Glaucoma/images-2.jpeg',\n",
       " './Data/1./Glaucoma/images-27.jpeg',\n",
       " './Data/1./Glaucoma/images-70.jpeg',\n",
       " './Data/1./Glaucoma/image-2.jpeg',\n",
       " './Data/1./Glaucoma/images-66.jpeg',\n",
       " './Data/1./Glaucoma/images-31.jpeg',\n",
       " './Data/1./Glaucoma/image-9.jpeg',\n",
       " './Data/1./Glaucoma/images-5.jpeg',\n",
       " './Data/1./Glaucoma/image-12.jpeg',\n",
       " './Data/1./Glaucoma/images-57.jpeg',\n",
       " './Data/1./Glaucoma/images-16.jpeg',\n",
       " './Data/1./Glaucoma/images-41.jpeg',\n",
       " './Data/1./Glaucoma/images-36.jpeg',\n",
       " './Data/1./Glaucoma/image-5.jpeg',\n",
       " './Data/1./Glaucoma/images-9.jpeg',\n",
       " './Data/1./Glaucoma/images-25.png',\n",
       " './Data/1./Glaucoma/images-20.jpeg',\n",
       " './Data/1./Glaucoma/images-34.png',\n",
       " './Data/1./Glaucoma/images-21.jpeg',\n",
       " './Data/1./Glaucoma/images-8.jpeg',\n",
       " './Data/1./Glaucoma/images-76.jpeg',\n",
       " './Data/1./Glaucoma/image-4.jpeg',\n",
       " './Data/1./Glaucoma/images-37.jpeg',\n",
       " './Data/1./Glaucoma/images-40.jpeg',\n",
       " './Data/1./Glaucoma/images-17.jpeg',\n",
       " './Data/1./Glaucoma/images-56.jpeg',\n",
       " './Data/1./Glaucoma/images-4.jpeg',\n",
       " './Data/1./Glaucoma/image-8.jpeg',\n",
       " './Data/1./Glaucoma/images-43.jpeg',\n",
       " './Data/1./Glaucoma/images-14.jpeg',\n",
       " './Data/1./Glaucoma/images-55.jpeg',\n",
       " './Data/1./Glaucoma/images-79.jpeg',\n",
       " './Data/1./Glaucoma/image-10.jpeg',\n",
       " './Data/1./Glaucoma/images-7.jpeg',\n",
       " './Data/1./Glaucoma/images-38.jpeg',\n",
       " './Data/1./Glaucoma/images-18.jpeg',\n",
       " './Data/1./Glaucoma/images-59.jpeg',\n",
       " './Data/1./Glaucoma/images-22.jpeg',\n",
       " './Data/1./Glaucoma/images-75.jpeg',\n",
       " './Data/1./Glaucoma/image-7.jpeg',\n",
       " './Data/1./Glaucoma/images-35.jpeg',\n",
       " './Data/1./Glaucoma/image-6.jpeg',\n",
       " './Data/1./Glaucoma/images-74.jpeg',\n",
       " './Data/1./Glaucoma/images-23.jpeg',\n",
       " './Data/1./Glaucoma/images-58.jpeg',\n",
       " './Data/1./Glaucoma/images-19.jpeg',\n",
       " './Data/1./Glaucoma/images-39.jpeg',\n",
       " './Data/1./Glaucoma/images-6.jpeg',\n",
       " './Data/1./Glaucoma/image-11.jpeg',\n",
       " './Data/1./Glaucoma/images-54.jpeg',\n",
       " './Data/1./Glaucoma/images-15.jpeg',\n",
       " './Data/1./Glaucoma/images-42.jpeg',\n",
       " './Data/1./Glaucoma/images-49.jpeg',\n",
       " './Data/1./Glaucoma/images-24.jpeg',\n",
       " './Data/1./Glaucoma/images-73.jpeg',\n",
       " './Data/1./Glaucoma/images-65.jpeg',\n",
       " './Data/1./Glaucoma/images-32.jpeg',\n",
       " './Data/1./Glaucoma/images-45.jpeg',\n",
       " './Data/1./Glaucoma/images-12.jpeg',\n",
       " './Data/1./Glaucoma/images-53.jpeg',\n",
       " './Data/1./Glaucoma/images-28.jpeg',\n",
       " './Data/1./Glaucoma/images-69.jpeg',\n",
       " './Data/1./Glaucoma/images-68.jpeg',\n",
       " './Data/1./Glaucoma/images-29.jpeg',\n",
       " './Data/1./Glaucoma/images-52.jpeg',\n",
       " './Data/1./Glaucoma/images-13.jpeg',\n",
       " './Data/1./Glaucoma/images-44.jpeg',\n",
       " './Data/1./Glaucoma/images-33.jpeg',\n",
       " './Data/1./Glaucoma/images-72.jpeg',\n",
       " './Data/1./Glaucoma/images-48.jpeg',\n",
       " './Data/1./Cataracts/images-30.jpeg',\n",
       " './Data/1./Cataracts/image-18.jpeg',\n",
       " './Data/1./Cataracts/images-26.jpeg',\n",
       " './Data/1./Cataracts/image-22.jpeg',\n",
       " './Data/1./Cataracts/image-14.jpeg',\n",
       " './Data/1./Cataracts/images-10.jpeg',\n",
       " './Data/1./Cataracts/images-11.jpeg',\n",
       " './Data/1./Cataracts/image-15.jpeg',\n",
       " './Data/1./Cataracts/image-23.jpeg',\n",
       " './Data/1./Cataracts/image-19.jpeg',\n",
       " './Data/1./Cataracts/image-2.jpeg',\n",
       " './Data/1./Cataracts/images-31.jpeg',\n",
       " './Data/1./Cataracts/images-5.jpeg',\n",
       " './Data/1./Cataracts/image-12.jpeg',\n",
       " './Data/1./Cataracts/images-16.jpeg',\n",
       " './Data/1./Cataracts/images-41.jpeg',\n",
       " './Data/1./Cataracts/images-36.jpeg',\n",
       " './Data/1./Cataracts/image-5.jpeg',\n",
       " './Data/1./Cataracts/images-9.jpeg',\n",
       " './Data/1./Cataracts/images-20.jpeg',\n",
       " './Data/1./Cataracts/image-24.jpeg',\n",
       " './Data/1./Cataracts/image-4.jpeg',\n",
       " './Data/1./Cataracts/images-37.jpeg',\n",
       " './Data/1./Cataracts/images-40.jpeg',\n",
       " './Data/1./Cataracts/images-17.jpeg',\n",
       " './Data/1./Cataracts/image-13.jpeg',\n",
       " './Data/1./Cataracts/images-4.jpeg',\n",
       " './Data/1./Cataracts/images-14.jpeg',\n",
       " './Data/1./Cataracts/image-10.jpeg',\n",
       " './Data/1./Cataracts/images-38.jpeg',\n",
       " './Data/1./Cataracts/images-18.jpeg',\n",
       " './Data/1./Cataracts/images-35.jpeg',\n",
       " './Data/1./Cataracts/image-6.jpeg',\n",
       " './Data/1./Cataracts/images-23.jpeg',\n",
       " './Data/1./Cataracts/images-19.jpeg',\n",
       " './Data/1./Cataracts/images-39.jpeg',\n",
       " './Data/1./Cataracts/image-11.jpeg',\n",
       " './Data/1./Cataracts/images-15.jpeg',\n",
       " './Data/1./Cataracts/image-20.jpeg',\n",
       " './Data/1./Cataracts/images-24.jpeg',\n",
       " './Data/1./Cataracts/images-32.jpeg',\n",
       " './Data/1./Cataracts/images-12.jpeg',\n",
       " './Data/1./Cataracts/image-16.jpeg',\n",
       " './Data/1./Cataracts/image-17.jpeg',\n",
       " './Data/1./Cataracts/images-29.jpeg',\n",
       " './Data/1./Cataracts/images-13.jpeg',\n",
       " './Data/1./Cataracts/images-25.jpeg',\n",
       " './Data/1./Uveitis/images-30.jpeg',\n",
       " './Data/1./Uveitis/image-3.jpeg',\n",
       " './Data/1./Uveitis/images-26.jpeg',\n",
       " './Data/1./Uveitis/images-3.jpeg',\n",
       " './Data/1./Uveitis/image-14.jpeg',\n",
       " './Data/1./Uveitis/images-10.jpeg',\n",
       " './Data/1./Uveitis/images-11.jpeg',\n",
       " './Data/1./Uveitis/images.jpeg',\n",
       " './Data/1./Uveitis/images-2.jpeg',\n",
       " './Data/1./Uveitis/images-27.jpeg',\n",
       " './Data/1./Uveitis/image-2.jpeg',\n",
       " './Data/1./Uveitis/images-31.jpeg',\n",
       " './Data/1./Uveitis/image-9.jpeg',\n",
       " './Data/1./Uveitis/images-5.jpeg',\n",
       " './Data/1./Uveitis/image-12.jpeg',\n",
       " './Data/1./Uveitis/images-16.jpeg',\n",
       " './Data/1./Uveitis/images-36.jpeg',\n",
       " './Data/1./Uveitis/image-5.jpeg',\n",
       " './Data/1./Uveitis/images-9.jpeg',\n",
       " './Data/1./Uveitis/images-20.jpeg',\n",
       " './Data/1./Uveitis/images-21.jpeg',\n",
       " './Data/1./Uveitis/images-8.jpeg',\n",
       " './Data/1./Uveitis/image-4.jpeg',\n",
       " './Data/1./Uveitis/images-37.jpeg',\n",
       " './Data/1./Uveitis/images-17.jpeg',\n",
       " './Data/1./Uveitis/image-13.jpeg',\n",
       " './Data/1./Uveitis/images-4.jpeg',\n",
       " './Data/1./Uveitis/image-8.jpeg',\n",
       " './Data/1./Uveitis/images-14.jpeg',\n",
       " './Data/1./Uveitis/image-10.jpeg',\n",
       " './Data/1./Uveitis/images-7.jpeg',\n",
       " './Data/1./Uveitis/images-18.jpeg',\n",
       " './Data/1./Uveitis/images-22.jpeg',\n",
       " './Data/1./Uveitis/image-7.jpeg',\n",
       " './Data/1./Uveitis/images-34.jpeg',\n",
       " './Data/1./Uveitis/images-35.jpeg',\n",
       " './Data/1./Uveitis/image.jpeg',\n",
       " './Data/1./Uveitis/image-6.jpeg',\n",
       " './Data/1./Uveitis/images-23.jpeg',\n",
       " './Data/1./Uveitis/images-19.jpeg',\n",
       " './Data/1./Uveitis/images-6.jpeg',\n",
       " './Data/1./Uveitis/image-11.jpeg',\n",
       " './Data/1./Uveitis/images-15.jpeg',\n",
       " './Data/1./Uveitis/images-24.jpeg',\n",
       " './Data/1./Uveitis/images-12.jpeg',\n",
       " './Data/1./Uveitis/images-28.jpeg',\n",
       " './Data/1./Uveitis/images-29.jpeg',\n",
       " './Data/1./Uveitis/images-13.jpeg',\n",
       " './Data/1./Uveitis/images-33.jpeg',\n",
       " './Data/1./Uveitis/images-25.jpeg',\n",
       " './Data/1./Healthy/63.jpg',\n",
       " './Data/1./Healthy/77.jpg',\n",
       " './Data/1./Healthy/88.jpg',\n",
       " './Data/1./Healthy/228.jpg',\n",
       " './Data/1./Healthy/214.jpg',\n",
       " './Data/1./Healthy/200.jpg',\n",
       " './Data/1./Healthy/201.jpg',\n",
       " './Data/1./Healthy/215.jpg',\n",
       " './Data/1./Healthy/177.jpg',\n",
       " './Data/1./Healthy/89.jpg',\n",
       " './Data/1./Healthy/188.jpg',\n",
       " './Data/1./Healthy/76.jpg',\n",
       " './Data/1./Healthy/62.jpg',\n",
       " './Data/1./Healthy/74.jpg',\n",
       " './Data/1./Healthy/60.jpg',\n",
       " './Data/1./Healthy/48.jpg',\n",
       " './Data/1./Healthy/203.jpg',\n",
       " './Data/1./Healthy/202.jpg',\n",
       " './Data/1./Healthy/49.jpg',\n",
       " './Data/1./Healthy/75.jpg',\n",
       " './Data/1./Healthy/59.jpg',\n",
       " './Data/1./Healthy/71.jpg',\n",
       " './Data/1./Healthy/65.jpg',\n",
       " './Data/1./Healthy/206.jpg',\n",
       " './Data/1./Healthy/213.jpg',\n",
       " './Data/1./Healthy/207.jpg',\n",
       " './Data/1./Healthy/64.jpg',\n",
       " './Data/1./Healthy/70.jpg',\n",
       " './Data/1./Healthy/58.jpg',\n",
       " './Data/1./Healthy/8.jpg',\n",
       " './Data/1./Healthy/66.jpg',\n",
       " './Data/1./Healthy/72.jpg',\n",
       " './Data/1./Healthy/99.jpg',\n",
       " './Data/1./Healthy/211.jpg',\n",
       " './Data/1./Healthy/205.jpg',\n",
       " './Data/1./Healthy/238.jpg',\n",
       " './Data/1./Healthy/204.jpg',\n",
       " './Data/1./Healthy/210.jpg',\n",
       " './Data/1./Healthy/98.jpg',\n",
       " './Data/1./Healthy/73.jpg',\n",
       " './Data/1./Healthy/14.jpg',\n",
       " './Data/1./Healthy/28.jpg',\n",
       " './Data/1./Healthy/263.jpg',\n",
       " './Data/1./Healthy/262.jpg',\n",
       " './Data/1./Healthy/100.jpg',\n",
       " './Data/1./Healthy/29.jpg',\n",
       " './Data/1./Healthy/15.jpg',\n",
       " './Data/1./Healthy/17.jpg',\n",
       " './Data/1./Healthy/260.jpg',\n",
       " './Data/1./Healthy/261.jpg',\n",
       " './Data/1./Healthy/16.jpg',\n",
       " './Data/1./Healthy/12.jpg',\n",
       " './Data/1./Healthy/265.jpg',\n",
       " './Data/1./Healthy/258.jpg',\n",
       " './Data/1./Healthy/264.jpg',\n",
       " './Data/1./Healthy/13.jpg',\n",
       " './Data/1./Healthy/39.jpg',\n",
       " './Data/1./Healthy/11.jpg',\n",
       " './Data/1./Healthy/10.jpg',\n",
       " './Data/1./Healthy/38.jpg',\n",
       " './Data/1./Healthy/21.jpg',\n",
       " './Data/1./Healthy/35.jpg',\n",
       " './Data/1./Healthy/256.jpg',\n",
       " './Data/1./Healthy/242.jpg',\n",
       " './Data/1./Healthy/243.jpg',\n",
       " './Data/1./Healthy/257.jpg',\n",
       " './Data/1./Healthy/20.jpg',\n",
       " './Data/1./Healthy/36.jpg',\n",
       " './Data/1./Healthy/22.jpg',\n",
       " './Data/1./Healthy/255.jpg',\n",
       " './Data/1./Healthy/23.jpg',\n",
       " './Data/1./Healthy/37.jpg',\n",
       " './Data/1./Healthy/33.jpg',\n",
       " './Data/1./Healthy/27.jpg',\n",
       " './Data/1./Healthy/250.jpg',\n",
       " './Data/1./Healthy/245.jpg',\n",
       " './Data/1./Healthy/26.jpg',\n",
       " './Data/1./Healthy/32.jpg',\n",
       " './Data/1./Healthy/18.jpg',\n",
       " './Data/1./Healthy/24.jpg',\n",
       " './Data/1./Healthy/247.jpg',\n",
       " './Data/1./Healthy/246.jpg',\n",
       " './Data/1./Healthy/252.jpg',\n",
       " './Data/1./Healthy/31.jpg',\n",
       " './Data/1./Healthy/25.jpg',\n",
       " './Data/1./Healthy/19.jpg',\n",
       " './Data/1./Healthy/4.jpg',\n",
       " './Data/1./Healthy/56.jpg',\n",
       " './Data/1./Healthy/81.jpg',\n",
       " './Data/1./Healthy/95.jpg',\n",
       " './Data/1./Healthy/209.jpg',\n",
       " './Data/1./Healthy/235.jpg',\n",
       " './Data/1./Healthy/221.jpg',\n",
       " './Data/1./Healthy/234.jpg',\n",
       " './Data/1./Healthy/208.jpg',\n",
       " './Data/1./Healthy/94.jpg',\n",
       " './Data/1./Healthy/80.jpg',\n",
       " './Data/1./Healthy/195.jpg',\n",
       " './Data/1./Healthy/181.jpg',\n",
       " './Data/1./Healthy/5.jpg',\n",
       " './Data/1./Healthy/57.jpg',\n",
       " './Data/1./Healthy/43.jpg',\n",
       " './Data/1./Healthy/55.jpg',\n",
       " './Data/1./Healthy/7.jpg',\n",
       " './Data/1./Healthy/41.jpg',\n",
       " './Data/1./Healthy/69.jpg',\n",
       " './Data/1./Healthy/183.jpg',\n",
       " './Data/1./Healthy/96.jpg',\n",
       " './Data/1./Healthy/82.jpg',\n",
       " './Data/1./Healthy/222.jpg',\n",
       " './Data/1./Healthy/237.jpg',\n",
       " './Data/1./Healthy/83.jpg',\n",
       " './Data/1./Healthy/97.jpg',\n",
       " './Data/1./Healthy/196.jpg',\n",
       " './Data/1./Healthy/40.jpg',\n",
       " './Data/1./Healthy/54.jpg',\n",
       " './Data/1./Healthy/6.jpg',\n",
       " './Data/1./Healthy/192.jpg',\n",
       " './Data/1./Healthy/78.jpg',\n",
       " './Data/1./Healthy/186.jpg',\n",
       " './Data/1./Healthy/2.jpg',\n",
       " './Data/1./Healthy/50.jpg',\n",
       " './Data/1./Healthy/44.jpg',\n",
       " './Data/1./Healthy/93.jpg',\n",
       " './Data/1./Healthy/87.jpg',\n",
       " './Data/1./Healthy/227.jpg',\n",
       " './Data/1./Healthy/232.jpg',\n",
       " './Data/1./Healthy/226.jpg',\n",
       " './Data/1./Healthy/86.jpg',\n",
       " './Data/1./Healthy/178.jpg',\n",
       " './Data/1./Healthy/92.jpg',\n",
       " './Data/1./Healthy/51.jpg',\n",
       " './Data/1./Healthy/79.jpg',\n",
       " './Data/1./Healthy/187.jpg',\n",
       " './Data/1./Healthy/193.jpg',\n",
       " './Data/1./Healthy/185.jpg',\n",
       " './Data/1./Healthy/47.jpg',\n",
       " './Data/1./Healthy/53.jpg',\n",
       " './Data/1./Healthy/1.jpg',\n",
       " './Data/1./Healthy/84.jpg',\n",
       " './Data/1./Healthy/90.jpg',\n",
       " './Data/1./Healthy/218.jpg',\n",
       " './Data/1./Healthy/219.jpg',\n",
       " './Data/1./Healthy/225.jpg',\n",
       " './Data/1./Healthy/231.jpg',\n",
       " './Data/1./Healthy/91.jpg',\n",
       " './Data/1./Healthy/85.jpg',\n",
       " './Data/1./Healthy/52.jpg',\n",
       " './Data/1./Healthy/0.jpg',\n",
       " './Data/1./Healthy/46.jpg',\n",
       " './Data/1./Healthy/190.jpg',\n",
       " './Data/1./Healthy/184.jpg']"
      ]
     },
     "execution_count": 3,
     "metadata": {},
     "output_type": "execute_result"
    }
   ],
   "source": [
    "image_paths"
   ]
  },
  {
   "cell_type": "code",
   "execution_count": 4,
   "id": "c3574ce6-29bd-434f-a9fb-6c8c59e812e9",
   "metadata": {},
   "outputs": [],
   "source": [
    "labels = []\n",
    "images = []\n",
    "\n",
    "for image_path in image_paths:\n",
    "    label = image_path.split(os.path.sep)[3]\n",
    "    image = image_path.split(os.path.sep)[4]\n",
    "    labels.append(label)\n",
    "    images.append(image)"
   ]
  },
  {
   "cell_type": "code",
   "execution_count": 5,
   "id": "e0ebdcd1-04fd-447a-8ed7-3c07d5f105a4",
   "metadata": {},
   "outputs": [],
   "source": [
    "labels = np.array(labels, dtype='str')\n",
    "label2pred = dict(zip(np.unique(labels), range(0, 4)))\n",
    "pred2label = dict(zip(range(0, 4), np.unique(labels)))\n",
    "n_classes = len(np.unique(labels))"
   ]
  },
  {
   "cell_type": "code",
   "execution_count": 6,
   "id": "2b97966d-bdf5-402a-999f-e1d1b771964c",
   "metadata": {},
   "outputs": [],
   "source": [
    "class IrisDisease(torch.utils.data.Dataset):\n",
    "    \n",
    "    def __init__(self, image_paths, labels, transforms=None):\n",
    "        super(IrisDisease, self).__init__()\n",
    "        \n",
    "        self.image_paths = image_paths\n",
    "        self.labels = labels\n",
    "        self.transforms = transforms\n",
    "        \n",
    "    def __len__(self):\n",
    "        return len(self.image_paths)\n",
    "    \n",
    "    def __getitem__(self, idx):\n",
    "        \n",
    "        image = cv2.imread(self.image_paths[idx])\n",
    "        image = cv2.cvtColor(image, cv2.COLOR_BGR2RGB)\n",
    "        image = cv2.resize(image, (224, 224))\n",
    "            \n",
    "        label = self.labels[idx]\n",
    "        label = label2pred[label]\n",
    "        label = torch.tensor(label)\n",
    "        \n",
    "        if self.transforms:\n",
    "            image = self.transforms(image)\n",
    "        \n",
    "        return image, label        "
   ]
  },
  {
   "cell_type": "code",
   "execution_count": 7,
   "id": "75edbd36-d771-495a-b3dc-d948224e2a60",
   "metadata": {},
   "outputs": [],
   "source": [
    "device='mps'"
   ]
  },
  {
   "cell_type": "code",
   "execution_count": 8,
   "id": "4ee90b2c-bab6-4450-95c5-3c64ea6b1169",
   "metadata": {},
   "outputs": [],
   "source": [
    "from sklearn.model_selection import train_test_split\n",
    "\n",
    "train_image_paths, test_image_paths, train_labels, test_labels = train_test_split(image_paths, labels, test_size=0.1, random_state=42)"
   ]
  },
  {
   "cell_type": "code",
   "execution_count": 9,
   "id": "5bc27969-a651-49e2-bdf9-2c4df7354543",
   "metadata": {},
   "outputs": [],
   "source": [
    "tr_transforms = torchvision.transforms.Compose([\n",
    "    torchvision.transforms.ToTensor(),\n",
    "    torchvision.transforms.RandomHorizontalFlip(1.0),\n",
    "    torchvision.transforms.CenterCrop(224),\n",
    "    torchvision.transforms.RandomRotation(60),\n",
    "    torchvision.transforms.RandomVerticalFlip(1.0),\n",
    "    torchvision.transforms.Normalize([0.485, 0.456, 0.406], [0.229, 0.224, 0.225])\n",
    "])\n",
    "\n",
    "val_transforms = torchvision.transforms.Compose([\n",
    "    torchvision.transforms.ToTensor(),\n",
    "    torchvision.transforms.Normalize([0.485, 0.456, 0.406], [0.229, 0.224, 0.225])\n",
    "])"
   ]
  },
  {
   "cell_type": "code",
   "execution_count": 10,
   "id": "07d11807-e11a-4428-891e-bf0914fbe27f",
   "metadata": {},
   "outputs": [],
   "source": [
    "train_dataset = IrisDisease(image_paths=train_image_paths, labels=train_labels, transforms=tr_transforms)\n",
    "test_dataset = IrisDisease(image_paths=test_image_paths, labels=test_labels, transforms=val_transforms)\n",
    "# train_dataset = Dataset(image_paths=image_paths, label=labels, transforms=torchvision.transforms.ToTensor())"
   ]
  },
  {
   "cell_type": "code",
   "execution_count": 11,
   "id": "67c29fba-e4d3-47b8-b76f-c7fe41f19034",
   "metadata": {},
   "outputs": [],
   "source": [
    "train_dataloader = torch.utils.data.DataLoader(dataset=train_dataset, batch_size=64, shuffle=True)\n",
    "test_dataloader = torch.utils.data.DataLoader(dataset=test_dataset, batch_size=64, shuffle=False)"
   ]
  },
  {
   "cell_type": "code",
   "execution_count": 12,
   "id": "a31db6b7-0c83-4a31-87a3-975ac8629e4b",
   "metadata": {},
   "outputs": [
    {
     "name": "stderr",
     "output_type": "stream",
     "text": [
      "Clipping input data to the valid range for imshow with RGB data ([0..1] for floats or [0..255] for integers).\n"
     ]
    },
    {
     "name": "stdout",
     "output_type": "stream",
     "text": [
      "Cataracts\n"
     ]
    },
    {
     "data": {
      "image/png": "[encoded data removed]",
      "text/plain": [
       "<Figure size 432x288 with 1 Axes>"
      ]
     },
     "metadata": {
      "needs_background": "light"
     },
     "output_type": "display_data"
    }
   ],
   "source": [
    "import matplotlib.pyplot as plt\n",
    "\n",
    "plt.imshow(train_dataset[10][0].permute(1, 2, 0))\n",
    "print(pred2label[train_dataset[10][1].item()])"
   ]
  },
  {
   "cell_type": "code",
   "execution_count": 13,
   "id": "a72e697d-de15-4fa0-91b0-5601c5fb4c2e",
   "metadata": {},
   "outputs": [],
   "source": [
    "class ClassificationBase(nn.Module):\n",
    "    def training_step(self, batch):\n",
    "        images, labels = batch\n",
    "        images = images.to(device)\n",
    "        labels = labels.to(device)\n",
    "        out = self(images)\n",
    "        loss = F.cross_entropy(out, labels)\n",
    "        acc = accuracy(out, labels)          \n",
    "        return loss, acc\n",
    "\n",
    "    def validation_step(self, batch):\n",
    "        images, labels = batch \n",
    "        images = images.to(device)\n",
    "        labels = labels.to(device)\n",
    "        out = self(images)                    \n",
    "        loss = F.cross_entropy(out, labels)  \n",
    "        acc = accuracy(out, labels)          \n",
    "        return {'val_loss': loss.detach(), 'val_acc': acc}\n",
    "        \n",
    "    def validation_epoch_end(self, outputs):\n",
    "        batch_losses = [x['val_loss'] for x in outputs]\n",
    "        epoch_loss = torch.stack(batch_losses).mean()   \n",
    "        batch_accs = [x['val_acc'] for x in outputs]\n",
    "        epoch_acc = torch.stack(batch_accs).mean()    \n",
    "        return {'val_loss': epoch_loss.item(), 'val_acc': epoch_acc.item()}\n",
    "    \n",
    "    def epoch_end(self, epoch, result):\n",
    "        print(\"Epoch [{}], val_loss: {:.4f}, val_acc: {:.4f}\".format(epoch, result['val_loss'], result['val_acc']))\n",
    "        \n",
    "\n",
    "def accuracy(outputs, labels):\n",
    "    _, preds = torch.max(outputs, dim=1)\n",
    "    return torch.tensor(torch.sum(preds == labels).item() / len(preds))\n",
    "\n",
    "def evaluate(model, val_loader):\n",
    "    outputs = [model.validation_step(batch) for batch in val_loader]\n",
    "    return model.validation_epoch_end(outputs)"
   ]
  },
  {
   "cell_type": "code",
   "execution_count": 14,
   "id": "7e6e3793-5270-461f-92eb-93ab54bb0599",
   "metadata": {},
   "outputs": [],
   "source": [
    "class EfficientNetB0(ClassificationBase):\n",
    "    \n",
    "    def __init__(self):\n",
    "        super().__init__()\n",
    "        \n",
    "        self.network = timm.create_model('efficientnet_b0', pretrained=True)\n",
    "        num_ftrs = self.network.classifier.in_features\n",
    "        self.network.classifier = nn.Linear(num_ftrs, n_classes)\n",
    "        \n",
    "        \n",
    "    def forward(self, batch):\n",
    "        batch = batch.to(device)\n",
    "        return torch.sigmoid(self.network(batch))\n",
    "        \n",
    "        \n",
    "        \n",
    "model = EfficientNetB0()     "
   ]
  },
  {
   "cell_type": "code",
   "execution_count": 15,
   "id": "ccc97d0f-f725-4229-82de-87425f6cdb09",
   "metadata": {},
   "outputs": [],
   "source": [
    "def fit(epochs, model, train_loader, val_loader, opt_func=torch.optim.Adam):\n",
    "    history = []\n",
    "    optimizer = opt_func(model.parameters(), 3e-4)\n",
    "    for epoch in range(epochs):\n",
    "        lrs = []\n",
    "        loss = 0\n",
    "        acc = 0\n",
    "        for batch in tqdm.tqdm(train_loader):\n",
    "            loss, acc = model.training_step(batch)\n",
    "            loss.backward()\n",
    "            optimizer.step()\n",
    "            optimizer.zero_grad()\n",
    "        print(\"Epoch [{}], loss: {:.4f}, acc: {:.4f}\".format(epoch, loss, acc))\n",
    "        result = evaluate(model, val_loader)\n",
    "        model.epoch_end(epoch, result)\n",
    "        history.append(result)\n",
    "    return history"
   ]
  },
  {
   "cell_type": "code",
   "execution_count": 16,
   "id": "d2ae3b47-89c3-410d-a0f4-c7c58a41e5e5",
   "metadata": {},
   "outputs": [],
   "source": [
    "model = model.to(device)"
   ]
  },
  {
   "cell_type": "code",
   "execution_count": 17,
   "id": "f4d4ce97-d022-4b53-959c-fff1f48b8dcc",
   "metadata": {},
   "outputs": [
    {
     "data": {
      "text/plain": [
       "{'val_loss': 1.3930197954177856, 'val_acc': 0.23529411852359772}"
      ]
     },
     "execution_count": 17,
     "metadata": {},
     "output_type": "execute_result"
    }
   ],
   "source": [
    "evaluate(model, test_dataloader)"
   ]
  },
  {
   "cell_type": "code",
   "execution_count": 18,
   "id": "9834131f-89fd-4b90-b84f-c35df6218b43",
   "metadata": {},
   "outputs": [
    {
     "name": "stderr",
     "output_type": "stream",
     "text": [
      "100%|████████████████████████████████████████████████| 5/5 [02:15<00:00, 27.18s/it]\n"
     ]
    },
    {
     "name": "stdout",
     "output_type": "stream",
     "text": [
      "Epoch [0], loss: 1.2551, acc: 0.8049\n",
      "Epoch [0], val_loss: 1.2682, val_acc: 0.6471\n"
     ]
    },
    {
     "name": "stderr",
     "output_type": "stream",
     "text": [
      "100%|████████████████████████████████████████████████| 5/5 [02:04<00:00, 24.81s/it]\n"
     ]
    },
    {
     "name": "stdout",
     "output_type": "stream",
     "text": [
      "Epoch [1], loss: 1.0949, acc: 0.8293\n",
      "Epoch [1], val_loss: 1.1407, val_acc: 0.6765\n"
     ]
    },
    {
     "name": "stderr",
     "output_type": "stream",
     "text": [
      "100%|████████████████████████████████████████████████| 5/5 [02:43<00:00, 32.64s/it]\n"
     ]
    },
    {
     "name": "stdout",
     "output_type": "stream",
     "text": [
      "Epoch [2], loss: 0.9770, acc: 0.9268\n",
      "Epoch [2], val_loss: 1.0532, val_acc: 0.6765\n"
     ]
    },
    {
     "name": "stderr",
     "output_type": "stream",
     "text": [
      "100%|████████████████████████████████████████████████| 5/5 [02:05<00:00, 25.13s/it]\n"
     ]
    },
    {
     "name": "stdout",
     "output_type": "stream",
     "text": [
      "Epoch [3], loss: 0.9656, acc: 0.8049\n",
      "Epoch [3], val_loss: 1.0127, val_acc: 0.7059\n"
     ]
    },
    {
     "name": "stderr",
     "output_type": "stream",
     "text": [
      "100%|████████████████████████████████████████████████| 5/5 [02:30<00:00, 30.02s/it]\n"
     ]
    },
    {
     "name": "stdout",
     "output_type": "stream",
     "text": [
      "Epoch [4], loss: 0.9195, acc: 0.9024\n",
      "Epoch [4], val_loss: 1.0044, val_acc: 0.7059\n"
     ]
    },
    {
     "name": "stderr",
     "output_type": "stream",
     "text": [
      "100%|████████████████████████████████████████████████| 5/5 [01:50<00:00, 22.15s/it]\n"
     ]
    },
    {
     "name": "stdout",
     "output_type": "stream",
     "text": [
      "Epoch [5], loss: 0.8515, acc: 0.9268\n",
      "Epoch [5], val_loss: 1.0013, val_acc: 0.6765\n"
     ]
    },
    {
     "name": "stderr",
     "output_type": "stream",
     "text": [
      "100%|████████████████████████████████████████████████| 5/5 [01:35<00:00, 19.13s/it]\n"
     ]
    },
    {
     "name": "stdout",
     "output_type": "stream",
     "text": [
      "Epoch [6], loss: 0.8476, acc: 0.9024\n",
      "Epoch [6], val_loss: 1.0016, val_acc: 0.7353\n"
     ]
    },
    {
     "name": "stderr",
     "output_type": "stream",
     "text": [
      "100%|████████████████████████████████████████████████| 5/5 [02:01<00:00, 24.22s/it]\n"
     ]
    },
    {
     "name": "stdout",
     "output_type": "stream",
     "text": [
      "Epoch [7], loss: 0.8192, acc: 0.9024\n",
      "Epoch [7], val_loss: 1.0022, val_acc: 0.7059\n"
     ]
    },
    {
     "name": "stderr",
     "output_type": "stream",
     "text": [
      "100%|████████████████████████████████████████████████| 5/5 [01:34<00:00, 18.87s/it]\n"
     ]
    },
    {
     "name": "stdout",
     "output_type": "stream",
     "text": [
      "Epoch [8], loss: 0.7912, acc: 0.9756\n",
      "Epoch [8], val_loss: 1.0015, val_acc: 0.7353\n"
     ]
    },
    {
     "name": "stderr",
     "output_type": "stream",
     "text": [
      "100%|████████████████████████████████████████████████| 5/5 [01:32<00:00, 18.51s/it]\n"
     ]
    },
    {
     "name": "stdout",
     "output_type": "stream",
     "text": [
      "Epoch [9], loss: 0.7730, acc: 1.0000\n",
      "Epoch [9], val_loss: 1.0156, val_acc: 0.7059\n"
     ]
    }
   ],
   "source": [
    "import tqdm\n",
    "history = fit(10, model, train_dataloader, test_dataloader)"
   ]
  },
  {
   "cell_type": "code",
   "execution_count": 20,
   "id": "4beb8811-6ab5-4858-9ae8-bdc39f2d55d2",
   "metadata": {},
   "outputs": [],
   "source": [
    "torch.save(model.state_dict(), 'model_1.pth')"
   ]
  },
  {
   "cell_type": "code",
   "execution_count": null,
   "id": "de6ac606-4d8e-4696-82ee-e3a6d3e9772f",
   "metadata": {},
   "outputs": [],
   "source": []
  }
 ],
 "metadata": {
  "kernelspec": {
   "display_name": "data-science",
   "language": "python",
   "name": "data-science"
  },
  "language_info": {
   "codemirror_mode": {
    "name": "ipython",
    "version": 3
   },
   "file_extension": ".py",
   "mimetype": "text/x-python",
   "name": "python",
   "nbconvert_exporter": "python",
   "pygments_lexer": "ipython3",
   "version": "3.9.13"
  },
  "widgets": {
   "application/vnd.jupyter.widget-state+json": {
    "state": {},
    "version_major": 2,
    "version_minor": 0
   }
  }
 },
 "nbformat": 4,
 "nbformat_minor": 5
}
