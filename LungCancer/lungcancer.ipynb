{
 "cells": [
  {
   "cell_type": "code",
   "execution_count": 83,
   "id": "7bbf33b9",
   "metadata": {},
   "outputs": [],
   "source": [
    "import os\n",
    "import cv2\n",
    "import pandas as pd\n",
    "import numpy as np\n",
    "import tensorflow as tf\n",
    "import matplotlib.pyplot as plt\n",
    "\n",
    "import warnings\n",
    "warnings.filterwarnings(\"ignore\")"
   ]
  },
  {
   "cell_type": "code",
   "execution_count": 13,
   "id": "a062f790",
   "metadata": {},
   "outputs": [
    {
     "name": "stdout",
     "output_type": "stream",
     "text": [
      "\u001b[1m\u001b[36mData\u001b[m\u001b[m/             lungcancer.ipynb\r\n"
     ]
    }
   ],
   "source": []
  },
  {
   "cell_type": "code",
   "execution_count": 84,
   "id": "0a534f0c",
   "metadata": {},
   "outputs": [],
   "source": [
    "train_path = \"./Data/train/\"\n",
    "val_path = \"./Data/valid/\"\n",
    "test_path = \"./Data/test/\""
   ]
  },
  {
   "cell_type": "code",
   "execution_count": 85,
   "id": "b51ff36b",
   "metadata": {},
   "outputs": [
    {
     "name": "stdout",
     "output_type": "stream",
     "text": [
      "{'squamous.cell.carcinoma_left.hilum_T1_N2_M0_IIIa': 155, 'adenocarcinoma_left.lower.lobe_T2_N0_M0_Ib': 195, 'normal': 148, 'large.cell.carcinoma_left.hilum_T2_N2_M0_IIIa': 115} \n",
      "\n",
      " {'squamous.cell.carcinoma_left.hilum_T1_N2_M0_IIIa': 15, 'adenocarcinoma_left.lower.lobe_T2_N0_M0_Ib': 23, 'normal': 13, 'large.cell.carcinoma_left.hilum_T2_N2_M0_IIIa': 21} \n",
      "\n",
      " {'squamous.cell.carcinoma': 90, 'large.cell.carcinoma': 51, 'adenocarcinoma': 120, 'normal': 54}\n"
     ]
    }
   ],
   "source": [
    "def GetDatasetSize(path):\n",
    "    num_of_image = {}\n",
    "    for folder in os.listdir(path):\n",
    "        if  folder != \".DS_Store\":\n",
    "            num_of_image[folder] = len(os.listdir(os.path.join(path, folder)));\n",
    "    return num_of_image;\n",
    "    \n",
    "train_set = GetDatasetSize(train_path)\n",
    "val_set = GetDatasetSize(val_path)\n",
    "test_set = GetDatasetSize(test_path)\n",
    "print(train_set,\"\\n\\n\",val_set,\"\\n\\n\",test_set)"
   ]
  },
  {
   "cell_type": "code",
   "execution_count": 86,
   "id": "f2fb63eb",
   "metadata": {},
   "outputs": [
    {
     "data": {
      "image/png": "[encoded data removed]",
      "text/plain": [
       "<Figure size 432x288 with 1 Axes>"
      ]
     },
     "metadata": {
      "needs_background": "light"
     },
     "output_type": "display_data"
    }
   ],
   "source": [
    "labels = ['squamous.cell.carcinoma', 'normal', 'adenocarcinoma', 'large.cell.carcinoma']\n",
    "train_list = list(train_set.values())\n",
    "val_list = list(val_set.values())\n",
    "test_list = list(test_set.values())\n",
    "\n",
    "x = np.arange(len(labels))  # the label locations\n",
    "width = 0.25  # the width of the bars\n",
    "\n",
    "fig, ax = plt.subplots()\n",
    "rects1 = ax.bar(x - width, train_list, width, label='Train')\n",
    "rects2 = ax.bar(x, val_list, width, label='Val')\n",
    "rects3 = ax.bar(x + width, test_list, width, label='Test')\n",
    "\n",
    "# Add some text for labels, title and custom x-axis tick labels, etc.\n",
    "ax.set_ylabel('Images Count')\n",
    "ax.set_title('Dataset')\n",
    "ax.set_xticks(x, labels)\n",
    "plt.xticks(rotation=15)\n",
    "ax.legend()\n",
    "\n",
    "ax.bar_label(rects1)\n",
    "ax.bar_label(rects2)\n",
    "ax.bar_label(rects3)\n",
    "\n",
    "fig.tight_layout()\n",
    "plt.show()"
   ]
  },
  {
   "cell_type": "code",
   "execution_count": 87,
   "id": "ab75b678",
   "metadata": {},
   "outputs": [],
   "source": [
    "import tensorflow.keras\n",
    "from tensorflow.keras import layers\n",
    "from tensorflow.keras import Model \n",
    "from tensorflow.keras.models import Sequential\n",
    "from tensorflow.keras.preprocessing import image\n",
    "from tensorflow.keras.callbacks import ModelCheckpoint, EarlyStopping\n",
    "from tensorflow.keras.preprocessing.image import ImageDataGenerator\n",
    "from tensorflow.keras.applications.vgg16 import VGG16, preprocess_input\n",
    "from tensorflow.keras.models import load_model, Model\n",
    "from tensorflow.keras.layers import Dense,Conv2D, Flatten, MaxPool2D, Dropout"
   ]
  },
  {
   "cell_type": "code",
   "execution_count": 88,
   "id": "099a8d6f",
   "metadata": {},
   "outputs": [
    {
     "name": "stdout",
     "output_type": "stream",
     "text": [
      "Found 613 images belonging to 4 classes.\n"
     ]
    }
   ],
   "source": [
    "train_datagen = ImageDataGenerator(rescale = 1.0/255.0,\n",
    "                                  horizontal_flip = True,\n",
    "                                  fill_mode = 'nearest',\n",
    "                                  zoom_range=0.2,\n",
    "                                  shear_range = 0.2,\n",
    "                                  width_shift_range=0.2,\n",
    "                                  height_shift_range=0.2,\n",
    "                                  rotation_range=0.4)\n",
    "\n",
    "train_data = train_datagen.flow_from_directory(train_path,\n",
    "                                                   batch_size = 5,\n",
    "                                                   target_size = (350,350),\n",
    "                                                   class_mode = 'categorical')"
   ]
  },
  {
   "cell_type": "code",
   "execution_count": 89,
   "id": "1711b14d",
   "metadata": {},
   "outputs": [
    {
     "data": {
      "text/plain": [
       "{'adenocarcinoma_left.lower.lobe_T2_N0_M0_Ib': 0,\n",
       " 'large.cell.carcinoma_left.hilum_T2_N2_M0_IIIa': 1,\n",
       " 'normal': 2,\n",
       " 'squamous.cell.carcinoma_left.hilum_T1_N2_M0_IIIa': 3}"
      ]
     },
     "execution_count": 89,
     "metadata": {},
     "output_type": "execute_result"
    }
   ],
   "source": [
    "train_data.class_indices"
   ]
  },
  {
   "cell_type": "code",
   "execution_count": 90,
   "id": "4934e665",
   "metadata": {},
   "outputs": [
    {
     "name": "stdout",
     "output_type": "stream",
     "text": [
      "Found 72 images belonging to 4 classes.\n"
     ]
    }
   ],
   "source": [
    "val_datagen = ImageDataGenerator(rescale = 1.0/255.0)\n",
    "val_data = val_datagen.flow_from_directory(val_path,\n",
    "                                                   batch_size = 5,\n",
    "                                                   target_size = (350,350),\n",
    "                                                   class_mode = 'categorical')\n"
   ]
  },
  {
   "cell_type": "code",
   "execution_count": 91,
   "id": "83b70eed",
   "metadata": {},
   "outputs": [
    {
     "data": {
      "text/plain": [
       "{'adenocarcinoma_left.lower.lobe_T2_N0_M0_Ib': 0,\n",
       " 'large.cell.carcinoma_left.hilum_T2_N2_M0_IIIa': 1,\n",
       " 'normal': 2,\n",
       " 'squamous.cell.carcinoma_left.hilum_T1_N2_M0_IIIa': 3}"
      ]
     },
     "execution_count": 91,
     "metadata": {},
     "output_type": "execute_result"
    }
   ],
   "source": [
    "val_data.class_indices"
   ]
  },
  {
   "cell_type": "code",
   "execution_count": 92,
   "id": "7a88b8d6",
   "metadata": {},
   "outputs": [
    {
     "name": "stdout",
     "output_type": "stream",
     "text": [
      "Found 315 images belonging to 4 classes.\n"
     ]
    }
   ],
   "source": [
    "test_datagen = ImageDataGenerator(rescale = 1.0/255.0)\n",
    "test_data = test_datagen.flow_from_directory(test_path,\n",
    "                                                   batch_size = 5,\n",
    "                                                   target_size = (350,350),\n",
    "                                                   class_mode = 'categorical')"
   ]
  },
  {
   "cell_type": "code",
   "execution_count": 93,
   "id": "ef52fdd0",
   "metadata": {},
   "outputs": [
    {
     "data": {
      "text/plain": [
       "{'adenocarcinoma': 0,\n",
       " 'large.cell.carcinoma': 1,\n",
       " 'normal': 2,\n",
       " 'squamous.cell.carcinoma': 3}"
      ]
     },
     "execution_count": 93,
     "metadata": {},
     "output_type": "execute_result"
    }
   ],
   "source": [
    "test_data.class_indices"
   ]
  },
  {
   "cell_type": "code",
   "execution_count": 98,
   "id": "f7a57c3c",
   "metadata": {},
   "outputs": [
    {
     "name": "stdout",
     "output_type": "stream",
     "text": [
      "WARNING:tensorflow:`input_shape` is undefined or non-square, or `rows` is not in [96, 128, 160, 192, 224]. Weights for input shape (224, 224) will be loaded as the default.\n"
     ]
    }
   ],
   "source": [
    "from tensorflow.keras.applications import MobileNetV2             \n",
    "\n",
    "base_model = MobileNetV2(input_shape=(350, 350,3),\n",
    "                      include_top=False, weights=\"imagenet\", \n",
    "                      pooling='max')\n"
   ]
  },
  {
   "cell_type": "code",
   "execution_count": 109,
   "id": "8b597897",
   "metadata": {},
   "outputs": [
    {
     "name": "stdout",
     "output_type": "stream",
     "text": [
      "WARNING:tensorflow:`input_shape` is undefined or non-square, or `rows` is not in [96, 128, 160, 192, 224]. Weights for input shape (224, 224) will be loaded as the default.\n"
     ]
    }
   ],
   "source": [
    "from tensorflow.keras.applications import MobileNetV2             \n",
    "\n",
    "base_model = MobileNetV2(input_shape=(350, 350,3),\n",
    "                      include_top=False, weights=\"imagenet\", \n",
    "                      pooling='max')\n",
    "for layer in base_model.layers:\n",
    "    layer.trainable = True\n",
    "model_resnet = Sequential()\n",
    "model_resnet.add(base_model)\n",
    "model_resnet.add(Dense(4, activation='sigmoid'))\n",
    "model_resnet.compile(optimizer = tf.keras.optimizers.SGD(learning_rate=0.0001), \n",
    "                     loss = 'categorical_crossentropy', \n",
    "                     metrics = ['accuracy'])\n",
    "mc = ModelCheckpoint(\n",
    "    filepath=\"./ct_resnet_best_model.hdf5\",\n",
    "    monitor= 'val_accuracy', \n",
    "    verbose= 1,\n",
    "    save_best_only= True, \n",
    "    mode = 'auto'\n",
    "    );\n",
    "\n",
    "call_back = [mc];\n",
    "model_resnet.load_weights('./ct_resnet_best_model.hdf5')"
   ]
  },
  {
   "cell_type": "code",
   "execution_count": 99,
   "id": "35ad2742",
   "metadata": {},
   "outputs": [],
   "source": [
    "for layer in base_model.layers:\n",
    "    layer.trainable = True"
   ]
  },
  {
   "cell_type": "code",
   "execution_count": 100,
   "id": "e4df0586",
   "metadata": {},
   "outputs": [],
   "source": [
    "model_resnet = Sequential()\n",
    "model_resnet.add(base_model)\n",
    "model_resnet.add(Dense(4, activation='sigmoid'))"
   ]
  },
  {
   "cell_type": "code",
   "execution_count": 101,
   "id": "2d43866e",
   "metadata": {},
   "outputs": [],
   "source": [
    "model_resnet.compile(optimizer = tf.keras.optimizers.SGD(learning_rate=0.0001), \n",
    "                     loss = 'categorical_crossentropy', \n",
    "                     metrics = ['accuracy'])\n"
   ]
  },
  {
   "cell_type": "code",
   "execution_count": 102,
   "id": "11b920fb",
   "metadata": {},
   "outputs": [],
   "source": [
    "mc = ModelCheckpoint(\n",
    "    filepath=\"./ct_resnet_best_model.hdf5\",\n",
    "    monitor= 'val_accuracy', \n",
    "    verbose= 1,\n",
    "    save_best_only= True, \n",
    "    mode = 'auto'\n",
    "    );\n",
    "\n",
    "call_back = [mc];"
   ]
  },
  {
   "cell_type": "code",
   "execution_count": 80,
   "id": "f5483e1c",
   "metadata": {},
   "outputs": [
    {
     "name": "stdout",
     "output_type": "stream",
     "text": [
      "Epoch 1/32\n",
      "122/122 [==============================] - ETA: 0s - loss: 0.2625 - accuracy: 0.9013\n",
      "Epoch 1: val_accuracy did not improve from 0.82857\n",
      "122/122 [==============================] - 13s 106ms/step - loss: 0.2625 - accuracy: 0.9013 - val_loss: 1.0098 - val_accuracy: 0.7857\n",
      "Epoch 2/32\n",
      "122/122 [==============================] - ETA: 0s - loss: 0.3016 - accuracy: 0.8882\n",
      "Epoch 2: val_accuracy did not improve from 0.82857\n",
      "122/122 [==============================] - 13s 104ms/step - loss: 0.3016 - accuracy: 0.8882 - val_loss: 0.7956 - val_accuracy: 0.8000\n",
      "Epoch 3/32\n",
      "122/122 [==============================] - ETA: 0s - loss: 0.2878 - accuracy: 0.8898\n",
      "Epoch 3: val_accuracy did not improve from 0.82857\n",
      "122/122 [==============================] - 13s 104ms/step - loss: 0.2878 - accuracy: 0.8898 - val_loss: 0.9012 - val_accuracy: 0.7714\n",
      "Epoch 4/32\n",
      "122/122 [==============================] - ETA: 0s - loss: 0.3170 - accuracy: 0.8799\n",
      "Epoch 4: val_accuracy did not improve from 0.82857\n",
      "122/122 [==============================] - 13s 104ms/step - loss: 0.3170 - accuracy: 0.8799 - val_loss: 0.7203 - val_accuracy: 0.8000\n",
      "Epoch 5/32\n",
      "122/122 [==============================] - ETA: 0s - loss: 0.2860 - accuracy: 0.8931\n",
      "Epoch 5: val_accuracy did not improve from 0.82857\n",
      "122/122 [==============================] - 13s 104ms/step - loss: 0.2860 - accuracy: 0.8931 - val_loss: 1.4013 - val_accuracy: 0.6000\n",
      "Epoch 6/32\n",
      "122/122 [==============================] - ETA: 0s - loss: 0.2532 - accuracy: 0.8980\n",
      "Epoch 6: val_accuracy did not improve from 0.82857\n",
      "122/122 [==============================] - 13s 104ms/step - loss: 0.2532 - accuracy: 0.8980 - val_loss: 0.8950 - val_accuracy: 0.7571\n",
      "Epoch 7/32\n",
      "122/122 [==============================] - ETA: 0s - loss: 0.2105 - accuracy: 0.9211\n",
      "Epoch 7: val_accuracy did not improve from 0.82857\n",
      "122/122 [==============================] - 13s 104ms/step - loss: 0.2105 - accuracy: 0.9211 - val_loss: 0.9824 - val_accuracy: 0.7286\n",
      "Epoch 8/32\n",
      "122/122 [==============================] - ETA: 0s - loss: 0.2060 - accuracy: 0.9211\n",
      "Epoch 8: val_accuracy did not improve from 0.82857\n",
      "122/122 [==============================] - 13s 105ms/step - loss: 0.2060 - accuracy: 0.9211 - val_loss: 0.6813 - val_accuracy: 0.8286\n",
      "Epoch 9/32\n",
      "122/122 [==============================] - ETA: 0s - loss: 0.2682 - accuracy: 0.9062\n",
      "Epoch 9: val_accuracy did not improve from 0.82857\n",
      "122/122 [==============================] - 13s 104ms/step - loss: 0.2682 - accuracy: 0.9062 - val_loss: 0.7570 - val_accuracy: 0.8000\n",
      "Epoch 10/32\n",
      "122/122 [==============================] - ETA: 0s - loss: 0.1990 - accuracy: 0.9194\n",
      "Epoch 10: val_accuracy did not improve from 0.82857\n",
      "122/122 [==============================] - 13s 105ms/step - loss: 0.1990 - accuracy: 0.9194 - val_loss: 0.7421 - val_accuracy: 0.8000\n",
      "Epoch 11/32\n",
      "122/122 [==============================] - ETA: 0s - loss: 0.2583 - accuracy: 0.9062\n",
      "Epoch 11: val_accuracy did not improve from 0.82857\n",
      "122/122 [==============================] - 13s 104ms/step - loss: 0.2583 - accuracy: 0.9062 - val_loss: 0.7072 - val_accuracy: 0.8000\n",
      "Epoch 12/32\n",
      "122/122 [==============================] - ETA: 0s - loss: 0.1961 - accuracy: 0.9326\n",
      "Epoch 12: val_accuracy did not improve from 0.82857\n",
      "122/122 [==============================] - 13s 104ms/step - loss: 0.1961 - accuracy: 0.9326 - val_loss: 0.8354 - val_accuracy: 0.7714\n",
      "Epoch 13/32\n",
      "122/122 [==============================] - ETA: 0s - loss: 0.2139 - accuracy: 0.9178\n",
      "Epoch 13: val_accuracy did not improve from 0.82857\n",
      "122/122 [==============================] - 13s 105ms/step - loss: 0.2139 - accuracy: 0.9178 - val_loss: 0.9851 - val_accuracy: 0.7429\n",
      "Epoch 14/32\n",
      "122/122 [==============================] - ETA: 0s - loss: 0.2041 - accuracy: 0.9243\n",
      "Epoch 14: val_accuracy did not improve from 0.82857\n",
      "122/122 [==============================] - 13s 105ms/step - loss: 0.2041 - accuracy: 0.9243 - val_loss: 0.8577 - val_accuracy: 0.8000\n",
      "Epoch 15/32\n",
      "122/122 [==============================] - ETA: 0s - loss: 0.2571 - accuracy: 0.9013\n",
      "Epoch 15: val_accuracy did not improve from 0.82857\n",
      "122/122 [==============================] - 13s 105ms/step - loss: 0.2571 - accuracy: 0.9013 - val_loss: 0.7723 - val_accuracy: 0.8000\n",
      "Epoch 16/32\n",
      "122/122 [==============================] - ETA: 0s - loss: 0.2227 - accuracy: 0.9145\n",
      "Epoch 16: val_accuracy did not improve from 0.82857\n",
      "122/122 [==============================] - 13s 105ms/step - loss: 0.2227 - accuracy: 0.9145 - val_loss: 0.8542 - val_accuracy: 0.7857\n",
      "Epoch 17/32\n",
      "122/122 [==============================] - ETA: 0s - loss: 0.1860 - accuracy: 0.9227\n",
      "Epoch 17: val_accuracy did not improve from 0.82857\n",
      "122/122 [==============================] - 13s 104ms/step - loss: 0.1860 - accuracy: 0.9227 - val_loss: 0.7326 - val_accuracy: 0.8286\n",
      "Epoch 18/32\n",
      "122/122 [==============================] - ETA: 0s - loss: 0.2215 - accuracy: 0.9243\n",
      "Epoch 18: val_accuracy did not improve from 0.82857\n",
      "122/122 [==============================] - 13s 104ms/step - loss: 0.2215 - accuracy: 0.9243 - val_loss: 0.5678 - val_accuracy: 0.8000\n",
      "Epoch 19/32\n",
      "122/122 [==============================] - ETA: 0s - loss: 0.2223 - accuracy: 0.9128\n",
      "Epoch 19: val_accuracy did not improve from 0.82857\n",
      "122/122 [==============================] - 13s 104ms/step - loss: 0.2223 - accuracy: 0.9128 - val_loss: 0.9630 - val_accuracy: 0.7714\n",
      "Epoch 20/32\n",
      "122/122 [==============================] - ETA: 0s - loss: 0.2306 - accuracy: 0.9145\n",
      "Epoch 20: val_accuracy did not improve from 0.82857\n",
      "122/122 [==============================] - 13s 104ms/step - loss: 0.2306 - accuracy: 0.9145 - val_loss: 0.7320 - val_accuracy: 0.7857\n",
      "Epoch 21/32\n",
      "122/122 [==============================] - ETA: 0s - loss: 0.2662 - accuracy: 0.9062\n",
      "Epoch 21: val_accuracy did not improve from 0.82857\n",
      "122/122 [==============================] - 13s 104ms/step - loss: 0.2662 - accuracy: 0.9062 - val_loss: 0.8510 - val_accuracy: 0.8000\n",
      "Epoch 22/32\n",
      "122/122 [==============================] - ETA: 0s - loss: 0.1904 - accuracy: 0.9309\n",
      "Epoch 22: val_accuracy did not improve from 0.82857\n",
      "122/122 [==============================] - 13s 105ms/step - loss: 0.1904 - accuracy: 0.9309 - val_loss: 0.9120 - val_accuracy: 0.7857\n",
      "Epoch 23/32\n",
      "122/122 [==============================] - ETA: 0s - loss: 0.2055 - accuracy: 0.9194\n",
      "Epoch 23: val_accuracy did not improve from 0.82857\n",
      "122/122 [==============================] - 13s 104ms/step - loss: 0.2055 - accuracy: 0.9194 - val_loss: 0.8732 - val_accuracy: 0.7857\n",
      "Epoch 24/32\n",
      "122/122 [==============================] - ETA: 0s - loss: 0.2035 - accuracy: 0.9243\n",
      "Epoch 24: val_accuracy improved from 0.82857 to 0.84286, saving model to ./ct_resnet_best_model.hdf5\n",
      "122/122 [==============================] - 13s 106ms/step - loss: 0.2035 - accuracy: 0.9243 - val_loss: 0.7656 - val_accuracy: 0.8429\n",
      "Epoch 25/32\n",
      "122/122 [==============================] - ETA: 0s - loss: 0.2218 - accuracy: 0.9194\n",
      "Epoch 25: val_accuracy did not improve from 0.84286\n",
      "122/122 [==============================] - 13s 104ms/step - loss: 0.2218 - accuracy: 0.9194 - val_loss: 0.8473 - val_accuracy: 0.7857\n",
      "Epoch 26/32\n",
      "122/122 [==============================] - ETA: 0s - loss: 0.1368 - accuracy: 0.9556\n",
      "Epoch 26: val_accuracy did not improve from 0.84286\n",
      "122/122 [==============================] - 13s 104ms/step - loss: 0.1368 - accuracy: 0.9556 - val_loss: 0.9093 - val_accuracy: 0.8143\n",
      "Epoch 27/32\n",
      "122/122 [==============================] - ETA: 0s - loss: 0.1632 - accuracy: 0.9342\n",
      "Epoch 27: val_accuracy did not improve from 0.84286\n",
      "122/122 [==============================] - 13s 104ms/step - loss: 0.1632 - accuracy: 0.9342 - val_loss: 0.9236 - val_accuracy: 0.7857\n",
      "Epoch 28/32\n",
      "122/122 [==============================] - ETA: 0s - loss: 0.2027 - accuracy: 0.9178\n",
      "Epoch 28: val_accuracy did not improve from 0.84286\n",
      "122/122 [==============================] - 13s 104ms/step - loss: 0.2027 - accuracy: 0.9178 - val_loss: 0.8529 - val_accuracy: 0.8143\n",
      "Epoch 29/32\n",
      "122/122 [==============================] - ETA: 0s - loss: 0.1589 - accuracy: 0.9359\n",
      "Epoch 29: val_accuracy did not improve from 0.84286\n",
      "122/122 [==============================] - 13s 104ms/step - loss: 0.1589 - accuracy: 0.9359 - val_loss: 0.9027 - val_accuracy: 0.7714\n"
     ]
    },
    {
     "name": "stdout",
     "output_type": "stream",
     "text": [
      "Epoch 30/32\n",
      "122/122 [==============================] - ETA: 0s - loss: 0.1390 - accuracy: 0.9507\n",
      "Epoch 30: val_accuracy did not improve from 0.84286\n",
      "122/122 [==============================] - 13s 104ms/step - loss: 0.1390 - accuracy: 0.9507 - val_loss: 0.9112 - val_accuracy: 0.7714\n",
      "Epoch 31/32\n",
      "122/122 [==============================] - ETA: 0s - loss: 0.1700 - accuracy: 0.9375\n",
      "Epoch 31: val_accuracy did not improve from 0.84286\n",
      "122/122 [==============================] - 13s 105ms/step - loss: 0.1700 - accuracy: 0.9375 - val_loss: 0.8424 - val_accuracy: 0.7714\n",
      "Epoch 32/32\n",
      "122/122 [==============================] - ETA: 0s - loss: 0.1768 - accuracy: 0.9375\n",
      "Epoch 32: val_accuracy did not improve from 0.84286\n",
      "122/122 [==============================] - 13s 105ms/step - loss: 0.1768 - accuracy: 0.9375 - val_loss: 0.8094 - val_accuracy: 0.8000\n"
     ]
    }
   ],
   "source": [
    "resnet = model_resnet.fit(\n",
    "    train_data, \n",
    "    steps_per_epoch = train_data.samples//train_data.batch_size, \n",
    "    epochs = 32, \n",
    "    validation_data = val_data, \n",
    "    validation_steps = val_data.samples//val_data.batch_size,\n",
    "    callbacks = call_back \n",
    "    )"
   ]
  },
  {
   "cell_type": "code",
   "execution_count": null,
   "id": "b2582a56",
   "metadata": {},
   "outputs": [],
   "source": []
  },
  {
   "cell_type": "code",
   "execution_count": null,
   "id": "66644be4",
   "metadata": {},
   "outputs": [],
   "source": []
  },
  {
   "cell_type": "code",
   "execution_count": null,
   "id": "03b13817",
   "metadata": {},
   "outputs": [],
   "source": []
  },
  {
   "cell_type": "code",
   "execution_count": 105,
   "id": "f8dbf813",
   "metadata": {},
   "outputs": [],
   "source": [
    "model_resnet.load_weights('./ct_resnet_best_model.hdf5')"
   ]
  },
  {
   "cell_type": "code",
   "execution_count": 108,
   "id": "78580d6f",
   "metadata": {},
   "outputs": [
    {
     "name": "stdout",
     "output_type": "stream",
     "text": [
      "Epoch 1/32\n"
     ]
    },
    {
     "name": "stderr",
     "output_type": "stream",
     "text": [
      "2022-07-16 00:12:57.037474: I tensorflow/core/grappler/optimizers/custom_graph_optimizer_registry.cc:113] Plugin optimizer for device_type GPU is enabled.\n"
     ]
    },
    {
     "name": "stdout",
     "output_type": "stream",
     "text": [
      " 44/122 [=========>....................] - ETA: 10s - loss: 0.1736 - accuracy: 0.9358"
     ]
    },
    {
     "ename": "KeyboardInterrupt",
     "evalue": "",
     "output_type": "error",
     "traceback": [
      "\u001b[0;31m---------------------------------------------------------------------------\u001b[0m",
      "\u001b[0;31mKeyboardInterrupt\u001b[0m                         Traceback (most recent call last)",
      "Input \u001b[0;32mIn [108]\u001b[0m, in \u001b[0;36m<cell line: 1>\u001b[0;34m()\u001b[0m\n\u001b[0;32m----> 1\u001b[0m resnet \u001b[38;5;241m=\u001b[39m \u001b[43mmodel_resnet\u001b[49m\u001b[38;5;241;43m.\u001b[39;49m\u001b[43mfit\u001b[49m\u001b[43m(\u001b[49m\n\u001b[1;32m      2\u001b[0m \u001b[43m    \u001b[49m\u001b[43mtrain_data\u001b[49m\u001b[43m,\u001b[49m\u001b[43m \u001b[49m\n\u001b[1;32m      3\u001b[0m \u001b[43m    \u001b[49m\u001b[43msteps_per_epoch\u001b[49m\u001b[43m \u001b[49m\u001b[38;5;241;43m=\u001b[39;49m\u001b[43m \u001b[49m\u001b[43mtrain_data\u001b[49m\u001b[38;5;241;43m.\u001b[39;49m\u001b[43msamples\u001b[49m\u001b[38;5;241;43m/\u001b[39;49m\u001b[38;5;241;43m/\u001b[39;49m\u001b[43mtrain_data\u001b[49m\u001b[38;5;241;43m.\u001b[39;49m\u001b[43mbatch_size\u001b[49m\u001b[43m,\u001b[49m\u001b[43m \u001b[49m\n\u001b[1;32m      4\u001b[0m \u001b[43m    \u001b[49m\u001b[43mepochs\u001b[49m\u001b[43m \u001b[49m\u001b[38;5;241;43m=\u001b[39;49m\u001b[43m \u001b[49m\u001b[38;5;241;43m32\u001b[39;49m\u001b[43m,\u001b[49m\u001b[43m \u001b[49m\n\u001b[1;32m      5\u001b[0m \u001b[43m    \u001b[49m\u001b[43mvalidation_data\u001b[49m\u001b[43m \u001b[49m\u001b[38;5;241;43m=\u001b[39;49m\u001b[43m \u001b[49m\u001b[43mval_data\u001b[49m\u001b[43m,\u001b[49m\u001b[43m \u001b[49m\n\u001b[1;32m      6\u001b[0m \u001b[43m    \u001b[49m\u001b[43mvalidation_steps\u001b[49m\u001b[43m \u001b[49m\u001b[38;5;241;43m=\u001b[39;49m\u001b[43m \u001b[49m\u001b[43mval_data\u001b[49m\u001b[38;5;241;43m.\u001b[39;49m\u001b[43msamples\u001b[49m\u001b[38;5;241;43m/\u001b[39;49m\u001b[38;5;241;43m/\u001b[39;49m\u001b[43mval_data\u001b[49m\u001b[38;5;241;43m.\u001b[39;49m\u001b[43mbatch_size\u001b[49m\u001b[43m,\u001b[49m\n\u001b[1;32m      7\u001b[0m \u001b[43m    \u001b[49m\u001b[43mcallbacks\u001b[49m\u001b[43m \u001b[49m\u001b[38;5;241;43m=\u001b[39;49m\u001b[43m \u001b[49m\u001b[43mcall_back\u001b[49m\u001b[43m \u001b[49m\n\u001b[1;32m      8\u001b[0m \u001b[43m)\u001b[49m\n",
      "File \u001b[0;32m~/miniforge3/envs/ML/lib/python3.8/site-packages/keras/utils/traceback_utils.py:64\u001b[0m, in \u001b[0;36mfilter_traceback.<locals>.error_handler\u001b[0;34m(*args, **kwargs)\u001b[0m\n\u001b[1;32m     62\u001b[0m filtered_tb \u001b[38;5;241m=\u001b[39m \u001b[38;5;28;01mNone\u001b[39;00m\n\u001b[1;32m     63\u001b[0m \u001b[38;5;28;01mtry\u001b[39;00m:\n\u001b[0;32m---> 64\u001b[0m   \u001b[38;5;28;01mreturn\u001b[39;00m \u001b[43mfn\u001b[49m\u001b[43m(\u001b[49m\u001b[38;5;241;43m*\u001b[39;49m\u001b[43margs\u001b[49m\u001b[43m,\u001b[49m\u001b[43m \u001b[49m\u001b[38;5;241;43m*\u001b[39;49m\u001b[38;5;241;43m*\u001b[39;49m\u001b[43mkwargs\u001b[49m\u001b[43m)\u001b[49m\n\u001b[1;32m     65\u001b[0m \u001b[38;5;28;01mexcept\u001b[39;00m \u001b[38;5;167;01mException\u001b[39;00m \u001b[38;5;28;01mas\u001b[39;00m e:  \u001b[38;5;66;03m# pylint: disable=broad-except\u001b[39;00m\n\u001b[1;32m     66\u001b[0m   filtered_tb \u001b[38;5;241m=\u001b[39m _process_traceback_frames(e\u001b[38;5;241m.\u001b[39m__traceback__)\n",
      "File \u001b[0;32m~/miniforge3/envs/ML/lib/python3.8/site-packages/keras/engine/training.py:1384\u001b[0m, in \u001b[0;36mModel.fit\u001b[0;34m(self, x, y, batch_size, epochs, verbose, callbacks, validation_split, validation_data, shuffle, class_weight, sample_weight, initial_epoch, steps_per_epoch, validation_steps, validation_batch_size, validation_freq, max_queue_size, workers, use_multiprocessing)\u001b[0m\n\u001b[1;32m   1377\u001b[0m \u001b[38;5;28;01mwith\u001b[39;00m tf\u001b[38;5;241m.\u001b[39mprofiler\u001b[38;5;241m.\u001b[39mexperimental\u001b[38;5;241m.\u001b[39mTrace(\n\u001b[1;32m   1378\u001b[0m     \u001b[38;5;124m'\u001b[39m\u001b[38;5;124mtrain\u001b[39m\u001b[38;5;124m'\u001b[39m,\n\u001b[1;32m   1379\u001b[0m     epoch_num\u001b[38;5;241m=\u001b[39mepoch,\n\u001b[1;32m   1380\u001b[0m     step_num\u001b[38;5;241m=\u001b[39mstep,\n\u001b[1;32m   1381\u001b[0m     batch_size\u001b[38;5;241m=\u001b[39mbatch_size,\n\u001b[1;32m   1382\u001b[0m     _r\u001b[38;5;241m=\u001b[39m\u001b[38;5;241m1\u001b[39m):\n\u001b[1;32m   1383\u001b[0m   callbacks\u001b[38;5;241m.\u001b[39mon_train_batch_begin(step)\n\u001b[0;32m-> 1384\u001b[0m   tmp_logs \u001b[38;5;241m=\u001b[39m \u001b[38;5;28;43mself\u001b[39;49m\u001b[38;5;241;43m.\u001b[39;49m\u001b[43mtrain_function\u001b[49m\u001b[43m(\u001b[49m\u001b[43miterator\u001b[49m\u001b[43m)\u001b[49m\n\u001b[1;32m   1385\u001b[0m   \u001b[38;5;28;01mif\u001b[39;00m data_handler\u001b[38;5;241m.\u001b[39mshould_sync:\n\u001b[1;32m   1386\u001b[0m     context\u001b[38;5;241m.\u001b[39masync_wait()\n",
      "File \u001b[0;32m~/miniforge3/envs/ML/lib/python3.8/site-packages/tensorflow/python/util/traceback_utils.py:150\u001b[0m, in \u001b[0;36mfilter_traceback.<locals>.error_handler\u001b[0;34m(*args, **kwargs)\u001b[0m\n\u001b[1;32m    148\u001b[0m filtered_tb \u001b[38;5;241m=\u001b[39m \u001b[38;5;28;01mNone\u001b[39;00m\n\u001b[1;32m    149\u001b[0m \u001b[38;5;28;01mtry\u001b[39;00m:\n\u001b[0;32m--> 150\u001b[0m   \u001b[38;5;28;01mreturn\u001b[39;00m \u001b[43mfn\u001b[49m\u001b[43m(\u001b[49m\u001b[38;5;241;43m*\u001b[39;49m\u001b[43margs\u001b[49m\u001b[43m,\u001b[49m\u001b[43m \u001b[49m\u001b[38;5;241;43m*\u001b[39;49m\u001b[38;5;241;43m*\u001b[39;49m\u001b[43mkwargs\u001b[49m\u001b[43m)\u001b[49m\n\u001b[1;32m    151\u001b[0m \u001b[38;5;28;01mexcept\u001b[39;00m \u001b[38;5;167;01mException\u001b[39;00m \u001b[38;5;28;01mas\u001b[39;00m e:\n\u001b[1;32m    152\u001b[0m   filtered_tb \u001b[38;5;241m=\u001b[39m _process_traceback_frames(e\u001b[38;5;241m.\u001b[39m__traceback__)\n",
      "File \u001b[0;32m~/miniforge3/envs/ML/lib/python3.8/site-packages/tensorflow/python/eager/def_function.py:915\u001b[0m, in \u001b[0;36mFunction.__call__\u001b[0;34m(self, *args, **kwds)\u001b[0m\n\u001b[1;32m    912\u001b[0m compiler \u001b[38;5;241m=\u001b[39m \u001b[38;5;124m\"\u001b[39m\u001b[38;5;124mxla\u001b[39m\u001b[38;5;124m\"\u001b[39m \u001b[38;5;28;01mif\u001b[39;00m \u001b[38;5;28mself\u001b[39m\u001b[38;5;241m.\u001b[39m_jit_compile \u001b[38;5;28;01melse\u001b[39;00m \u001b[38;5;124m\"\u001b[39m\u001b[38;5;124mnonXla\u001b[39m\u001b[38;5;124m\"\u001b[39m\n\u001b[1;32m    914\u001b[0m \u001b[38;5;28;01mwith\u001b[39;00m OptionalXlaContext(\u001b[38;5;28mself\u001b[39m\u001b[38;5;241m.\u001b[39m_jit_compile):\n\u001b[0;32m--> 915\u001b[0m   result \u001b[38;5;241m=\u001b[39m \u001b[38;5;28;43mself\u001b[39;49m\u001b[38;5;241;43m.\u001b[39;49m\u001b[43m_call\u001b[49m\u001b[43m(\u001b[49m\u001b[38;5;241;43m*\u001b[39;49m\u001b[43margs\u001b[49m\u001b[43m,\u001b[49m\u001b[43m \u001b[49m\u001b[38;5;241;43m*\u001b[39;49m\u001b[38;5;241;43m*\u001b[39;49m\u001b[43mkwds\u001b[49m\u001b[43m)\u001b[49m\n\u001b[1;32m    917\u001b[0m new_tracing_count \u001b[38;5;241m=\u001b[39m \u001b[38;5;28mself\u001b[39m\u001b[38;5;241m.\u001b[39mexperimental_get_tracing_count()\n\u001b[1;32m    918\u001b[0m without_tracing \u001b[38;5;241m=\u001b[39m (tracing_count \u001b[38;5;241m==\u001b[39m new_tracing_count)\n",
      "File \u001b[0;32m~/miniforge3/envs/ML/lib/python3.8/site-packages/tensorflow/python/eager/def_function.py:947\u001b[0m, in \u001b[0;36mFunction._call\u001b[0;34m(self, *args, **kwds)\u001b[0m\n\u001b[1;32m    944\u001b[0m   \u001b[38;5;28mself\u001b[39m\u001b[38;5;241m.\u001b[39m_lock\u001b[38;5;241m.\u001b[39mrelease()\n\u001b[1;32m    945\u001b[0m   \u001b[38;5;66;03m# In this case we have created variables on the first call, so we run the\u001b[39;00m\n\u001b[1;32m    946\u001b[0m   \u001b[38;5;66;03m# defunned version which is guaranteed to never create variables.\u001b[39;00m\n\u001b[0;32m--> 947\u001b[0m   \u001b[38;5;28;01mreturn\u001b[39;00m \u001b[38;5;28;43mself\u001b[39;49m\u001b[38;5;241;43m.\u001b[39;49m\u001b[43m_stateless_fn\u001b[49m\u001b[43m(\u001b[49m\u001b[38;5;241;43m*\u001b[39;49m\u001b[43margs\u001b[49m\u001b[43m,\u001b[49m\u001b[43m \u001b[49m\u001b[38;5;241;43m*\u001b[39;49m\u001b[38;5;241;43m*\u001b[39;49m\u001b[43mkwds\u001b[49m\u001b[43m)\u001b[49m  \u001b[38;5;66;03m# pylint: disable=not-callable\u001b[39;00m\n\u001b[1;32m    948\u001b[0m \u001b[38;5;28;01melif\u001b[39;00m \u001b[38;5;28mself\u001b[39m\u001b[38;5;241m.\u001b[39m_stateful_fn \u001b[38;5;129;01mis\u001b[39;00m \u001b[38;5;129;01mnot\u001b[39;00m \u001b[38;5;28;01mNone\u001b[39;00m:\n\u001b[1;32m    949\u001b[0m   \u001b[38;5;66;03m# Release the lock early so that multiple threads can perform the call\u001b[39;00m\n\u001b[1;32m    950\u001b[0m   \u001b[38;5;66;03m# in parallel.\u001b[39;00m\n\u001b[1;32m    951\u001b[0m   \u001b[38;5;28mself\u001b[39m\u001b[38;5;241m.\u001b[39m_lock\u001b[38;5;241m.\u001b[39mrelease()\n",
      "File \u001b[0;32m~/miniforge3/envs/ML/lib/python3.8/site-packages/tensorflow/python/eager/function.py:2956\u001b[0m, in \u001b[0;36mFunction.__call__\u001b[0;34m(self, *args, **kwargs)\u001b[0m\n\u001b[1;32m   2953\u001b[0m \u001b[38;5;28;01mwith\u001b[39;00m \u001b[38;5;28mself\u001b[39m\u001b[38;5;241m.\u001b[39m_lock:\n\u001b[1;32m   2954\u001b[0m   (graph_function,\n\u001b[1;32m   2955\u001b[0m    filtered_flat_args) \u001b[38;5;241m=\u001b[39m \u001b[38;5;28mself\u001b[39m\u001b[38;5;241m.\u001b[39m_maybe_define_function(args, kwargs)\n\u001b[0;32m-> 2956\u001b[0m \u001b[38;5;28;01mreturn\u001b[39;00m \u001b[43mgraph_function\u001b[49m\u001b[38;5;241;43m.\u001b[39;49m\u001b[43m_call_flat\u001b[49m\u001b[43m(\u001b[49m\n\u001b[1;32m   2957\u001b[0m \u001b[43m    \u001b[49m\u001b[43mfiltered_flat_args\u001b[49m\u001b[43m,\u001b[49m\u001b[43m \u001b[49m\u001b[43mcaptured_inputs\u001b[49m\u001b[38;5;241;43m=\u001b[39;49m\u001b[43mgraph_function\u001b[49m\u001b[38;5;241;43m.\u001b[39;49m\u001b[43mcaptured_inputs\u001b[49m\u001b[43m)\u001b[49m\n",
      "File \u001b[0;32m~/miniforge3/envs/ML/lib/python3.8/site-packages/tensorflow/python/eager/function.py:1853\u001b[0m, in \u001b[0;36mConcreteFunction._call_flat\u001b[0;34m(self, args, captured_inputs, cancellation_manager)\u001b[0m\n\u001b[1;32m   1849\u001b[0m possible_gradient_type \u001b[38;5;241m=\u001b[39m gradients_util\u001b[38;5;241m.\u001b[39mPossibleTapeGradientTypes(args)\n\u001b[1;32m   1850\u001b[0m \u001b[38;5;28;01mif\u001b[39;00m (possible_gradient_type \u001b[38;5;241m==\u001b[39m gradients_util\u001b[38;5;241m.\u001b[39mPOSSIBLE_GRADIENT_TYPES_NONE\n\u001b[1;32m   1851\u001b[0m     \u001b[38;5;129;01mand\u001b[39;00m executing_eagerly):\n\u001b[1;32m   1852\u001b[0m   \u001b[38;5;66;03m# No tape is watching; skip to running the function.\u001b[39;00m\n\u001b[0;32m-> 1853\u001b[0m   \u001b[38;5;28;01mreturn\u001b[39;00m \u001b[38;5;28mself\u001b[39m\u001b[38;5;241m.\u001b[39m_build_call_outputs(\u001b[38;5;28;43mself\u001b[39;49m\u001b[38;5;241;43m.\u001b[39;49m\u001b[43m_inference_function\u001b[49m\u001b[38;5;241;43m.\u001b[39;49m\u001b[43mcall\u001b[49m\u001b[43m(\u001b[49m\n\u001b[1;32m   1854\u001b[0m \u001b[43m      \u001b[49m\u001b[43mctx\u001b[49m\u001b[43m,\u001b[49m\u001b[43m \u001b[49m\u001b[43margs\u001b[49m\u001b[43m,\u001b[49m\u001b[43m \u001b[49m\u001b[43mcancellation_manager\u001b[49m\u001b[38;5;241;43m=\u001b[39;49m\u001b[43mcancellation_manager\u001b[49m\u001b[43m)\u001b[49m)\n\u001b[1;32m   1855\u001b[0m forward_backward \u001b[38;5;241m=\u001b[39m \u001b[38;5;28mself\u001b[39m\u001b[38;5;241m.\u001b[39m_select_forward_and_backward_functions(\n\u001b[1;32m   1856\u001b[0m     args,\n\u001b[1;32m   1857\u001b[0m     possible_gradient_type,\n\u001b[1;32m   1858\u001b[0m     executing_eagerly)\n\u001b[1;32m   1859\u001b[0m forward_function, args_with_tangents \u001b[38;5;241m=\u001b[39m forward_backward\u001b[38;5;241m.\u001b[39mforward()\n",
      "File \u001b[0;32m~/miniforge3/envs/ML/lib/python3.8/site-packages/tensorflow/python/eager/function.py:499\u001b[0m, in \u001b[0;36m_EagerDefinedFunction.call\u001b[0;34m(self, ctx, args, cancellation_manager)\u001b[0m\n\u001b[1;32m    497\u001b[0m \u001b[38;5;28;01mwith\u001b[39;00m _InterpolateFunctionError(\u001b[38;5;28mself\u001b[39m):\n\u001b[1;32m    498\u001b[0m   \u001b[38;5;28;01mif\u001b[39;00m cancellation_manager \u001b[38;5;129;01mis\u001b[39;00m \u001b[38;5;28;01mNone\u001b[39;00m:\n\u001b[0;32m--> 499\u001b[0m     outputs \u001b[38;5;241m=\u001b[39m \u001b[43mexecute\u001b[49m\u001b[38;5;241;43m.\u001b[39;49m\u001b[43mexecute\u001b[49m\u001b[43m(\u001b[49m\n\u001b[1;32m    500\u001b[0m \u001b[43m        \u001b[49m\u001b[38;5;28;43mstr\u001b[39;49m\u001b[43m(\u001b[49m\u001b[38;5;28;43mself\u001b[39;49m\u001b[38;5;241;43m.\u001b[39;49m\u001b[43msignature\u001b[49m\u001b[38;5;241;43m.\u001b[39;49m\u001b[43mname\u001b[49m\u001b[43m)\u001b[49m\u001b[43m,\u001b[49m\n\u001b[1;32m    501\u001b[0m \u001b[43m        \u001b[49m\u001b[43mnum_outputs\u001b[49m\u001b[38;5;241;43m=\u001b[39;49m\u001b[38;5;28;43mself\u001b[39;49m\u001b[38;5;241;43m.\u001b[39;49m\u001b[43m_num_outputs\u001b[49m\u001b[43m,\u001b[49m\n\u001b[1;32m    502\u001b[0m \u001b[43m        \u001b[49m\u001b[43minputs\u001b[49m\u001b[38;5;241;43m=\u001b[39;49m\u001b[43margs\u001b[49m\u001b[43m,\u001b[49m\n\u001b[1;32m    503\u001b[0m \u001b[43m        \u001b[49m\u001b[43mattrs\u001b[49m\u001b[38;5;241;43m=\u001b[39;49m\u001b[43mattrs\u001b[49m\u001b[43m,\u001b[49m\n\u001b[1;32m    504\u001b[0m \u001b[43m        \u001b[49m\u001b[43mctx\u001b[49m\u001b[38;5;241;43m=\u001b[39;49m\u001b[43mctx\u001b[49m\u001b[43m)\u001b[49m\n\u001b[1;32m    505\u001b[0m   \u001b[38;5;28;01melse\u001b[39;00m:\n\u001b[1;32m    506\u001b[0m     outputs \u001b[38;5;241m=\u001b[39m execute\u001b[38;5;241m.\u001b[39mexecute_with_cancellation(\n\u001b[1;32m    507\u001b[0m         \u001b[38;5;28mstr\u001b[39m(\u001b[38;5;28mself\u001b[39m\u001b[38;5;241m.\u001b[39msignature\u001b[38;5;241m.\u001b[39mname),\n\u001b[1;32m    508\u001b[0m         num_outputs\u001b[38;5;241m=\u001b[39m\u001b[38;5;28mself\u001b[39m\u001b[38;5;241m.\u001b[39m_num_outputs,\n\u001b[0;32m   (...)\u001b[0m\n\u001b[1;32m    511\u001b[0m         ctx\u001b[38;5;241m=\u001b[39mctx,\n\u001b[1;32m    512\u001b[0m         cancellation_manager\u001b[38;5;241m=\u001b[39mcancellation_manager)\n",
      "File \u001b[0;32m~/miniforge3/envs/ML/lib/python3.8/site-packages/tensorflow/python/eager/execute.py:54\u001b[0m, in \u001b[0;36mquick_execute\u001b[0;34m(op_name, num_outputs, inputs, attrs, ctx, name)\u001b[0m\n\u001b[1;32m     52\u001b[0m \u001b[38;5;28;01mtry\u001b[39;00m:\n\u001b[1;32m     53\u001b[0m   ctx\u001b[38;5;241m.\u001b[39mensure_initialized()\n\u001b[0;32m---> 54\u001b[0m   tensors \u001b[38;5;241m=\u001b[39m \u001b[43mpywrap_tfe\u001b[49m\u001b[38;5;241;43m.\u001b[39;49m\u001b[43mTFE_Py_Execute\u001b[49m\u001b[43m(\u001b[49m\u001b[43mctx\u001b[49m\u001b[38;5;241;43m.\u001b[39;49m\u001b[43m_handle\u001b[49m\u001b[43m,\u001b[49m\u001b[43m \u001b[49m\u001b[43mdevice_name\u001b[49m\u001b[43m,\u001b[49m\u001b[43m \u001b[49m\u001b[43mop_name\u001b[49m\u001b[43m,\u001b[49m\n\u001b[1;32m     55\u001b[0m \u001b[43m                                      \u001b[49m\u001b[43minputs\u001b[49m\u001b[43m,\u001b[49m\u001b[43m \u001b[49m\u001b[43mattrs\u001b[49m\u001b[43m,\u001b[49m\u001b[43m \u001b[49m\u001b[43mnum_outputs\u001b[49m\u001b[43m)\u001b[49m\n\u001b[1;32m     56\u001b[0m \u001b[38;5;28;01mexcept\u001b[39;00m core\u001b[38;5;241m.\u001b[39m_NotOkStatusException \u001b[38;5;28;01mas\u001b[39;00m e:\n\u001b[1;32m     57\u001b[0m   \u001b[38;5;28;01mif\u001b[39;00m name \u001b[38;5;129;01mis\u001b[39;00m \u001b[38;5;129;01mnot\u001b[39;00m \u001b[38;5;28;01mNone\u001b[39;00m:\n",
      "\u001b[0;31mKeyboardInterrupt\u001b[0m: "
     ]
    }
   ],
   "source": [
    "resnet = model_resnet.fit(\n",
    "    train_data, \n",
    "    steps_per_epoch = train_data.samples//train_data.batch_size, \n",
    "    epochs = 32, \n",
    "    validation_data = val_data, \n",
    "    validation_steps = val_data.samples//val_data.batch_size,\n",
    "    callbacks = call_back \n",
    ")"
   ]
  }
 ],
 "metadata": {
  "kernelspec": {
   "display_name": "Python 3 (ipykernel)",
   "language": "python",
   "name": "python3"
  },
  "language_info": {
   "codemirror_mode": {
    "name": "ipython",
    "version": 3
   },
   "file_extension": ".py",
   "mimetype": "text/x-python",
   "name": "python",
   "nbconvert_exporter": "python",
   "pygments_lexer": "ipython3",
   "version": "3.8.13"
  }
 },
 "nbformat": 4,
 "nbformat_minor": 5
}
